{
 "cells": [
  {
   "cell_type": "code",
   "execution_count": null,
   "metadata": {},
   "outputs": [],
   "source": [
    "import pandas as pd     \n",
    "import numpy as np \n",
    "import glob as glob\n",
    "\n",
    "Base=[]\n",
    "csv_files = glob.glob('Data/*.csv')\n",
    "\n",
    "for filename in csv_files:\n",
    "    if filename == \"Data\\\\EAM_2020.csv\":\n",
    "        print(\"ok\")\n",
    "        data = pd.read_csv(filename,sep=\",\")   \n",
    "    else:\n",
    "        data = pd.read_csv(filename,sep=\";\")\n",
    "      \n",
    "    Base.append(data)"
   ]
  },
  {
   "cell_type": "code",
   "execution_count": null,
   "metadata": {},
   "outputs": [],
   "source": [
    "EAM08,EAM09,EAM10,EAM11,EAM12,EAM13,EAM14,EAM15,EAM16,EAM17,EAM18,EAM19,EAM20 = Base\n",
    "#Assign each dataframe a variable of the \"Base\"\n",
    "Data_Merge = [EAM08,EAM09,EAM10,EAM11,EAM12,EAM13,EAM14,EAM15,EAM16,EAM17,EAM18,EAM19,EAM20]\n",
    "#Create a list of the dataframe\n",
    "EAM08_G,EAM09_G,EAM10_G,EAM11_G,EAM12_G,EAM13_G,EAM14_G, \\\n",
    "            EAM15_G,EAM16_G,EAM17_G,EAM18_G,EAM19_G,EAM20_G=\\\n",
    "                0,0,0,0,0,0,0,0,0,0,0,0,0\n",
    "Data_Gruop = [EAM08_G,EAM09_G,EAM10_G,EAM11_G,EAM12_G,EAM13_G,EAM14_G, \\\n",
    "            EAM15_G,EAM16_G,EAM17_G,EAM18_G,EAM19_G,EAM20_G]"
   ]
  },
  {
   "cell_type": "code",
   "execution_count": null,
   "metadata": {},
   "outputs": [],
   "source": [
    "#PARA CAMBIAR UN LABEL EN UNA UBICACIÓN ESPECIFICA NO ESTANDARIZADO\n",
    "def change_name(Data_Merge, Number, change):\n",
    "    for df in Data_Merge:\n",
    "        if len(df.columns) > Number: #Verificar si el dataframe tiene al menos 4 columnas\n",
    "            df.columns.values[Number] = change #Me cambia el name de el label \n",
    "    return Data_Merge"
   ]
  },
  {
   "cell_type": "code",
   "execution_count": null,
   "metadata": {},
   "outputs": [],
   "source": [
    "#Para estandairzar los labels\n",
    "def change_label(Data_Merge):\n",
    "    for df in Data_Merge:\n",
    "        columnas = df.columns.tolist() #Crea una lista de columnas\n",
    "        nuevas_columnas = [columna.upper() for columna in columnas] # coloca en mayusculas cada columna de lista\n",
    "        df.columns = nuevas_columnas #Asigna el nuevo nombre\n",
    "    return Data_Merge"
   ]
  },
  {
   "cell_type": "code",
   "execution_count": null,
   "metadata": {},
   "outputs": [],
   "source": [
    "#Función para saber si una columna esta presente en un dataframe\n",
    "def Exis(Data_Merge, item):\n",
    "    for i, df in enumerate(Data_Merge):\n",
    "        if item not in df.columns:\n",
    "            columna_ausente = True\n",
    "            print(f\"El item no está presente en el DataFrame {i}.\")\n",
    "        else:\n",
    "            columna_ausente = False\n",
    "            print(f\"El item  está presente en el DataFrame {i}.\")\n",
    "    return columna_ausente"
   ]
  },
  {
   "cell_type": "code",
   "execution_count": null,
   "metadata": {},
   "outputs": [],
   "source": [
    "#Función para saber si existen datos faltantes en la columna\n",
    "def exis_colum(Data_Merge,colum):\n",
    "    missing_col=0\n",
    "    for i in Data_Merge:\n",
    "        missing_col += i[colum].isnull().sum()\n",
    "    return missing_col"
   ]
  },
  {
   "cell_type": "code",
   "execution_count": null,
   "metadata": {},
   "outputs": [],
   "source": [
    "#Función para ordenar, por una columna \n",
    "def Sort(Column,Data_Merge):\n",
    "    for i, d in enumerate(Data_Merge):\n",
    "        sorted_df = d.sort_values(by=Column)\n",
    "        Data_Merge[i] = sorted_df \n",
    "    return Data_Merge"
   ]
  },
  {
   "cell_type": "code",
   "execution_count": null,
   "metadata": {},
   "outputs": [],
   "source": [
    "def calculate_avg_or_sum(Column, SUMATION, UBACATION, Data_Gruop, Data_Merge, operation):\n",
    "    for i, df in enumerate(Data_Gruop):\n",
    "        for index in df.index:\n",
    "            if index in Data_Merge[i][Column].unique():\n",
    "                total = Data_Merge[i][Data_Merge[i][Column] == index][SUMATION]\n",
    "                if operation == 'mean':\n",
    "                    total=total.mean()\n",
    "                    df.loc[index, UBACATION] = total\n",
    "                elif operation == 'sum':\n",
    "                    total=total.sum()\n",
    "                    df.loc[index, UBACATION] = total\n",
    "                elif operation == 'count':\n",
    "                    total=total.value_counts()           \n",
    "                    df.loc[index, UBACATION] = int(total)           \n",
    "                elif operation == 'coe_sim':\n",
    "                    total=total.skew()  #Da como resultado el coeficiente de asimetria de fisher\n",
    "                    df.loc[index, UBACATION] = total\n",
    "                elif operation == \"med\":\n",
    "                    total=total.median()\n",
    "                    df.loc[index, UBACATION] = total\n",
    "                elif operation ==\"rango\":\n",
    "                    total = total.max() - total.min()\n",
    "                    df.loc[index, UBACATION] = total\n",
    "    return Data_Gruop"
   ]
  },
  {
   "cell_type": "code",
   "execution_count": null,
   "metadata": {},
   "outputs": [],
   "source": [
    "def sum_of_rows(row,Colum1,Colum2):\n",
    "    return row[Colum1] + row[Colum2]"
   ]
  },
  {
   "cell_type": "code",
   "execution_count": null,
   "metadata": {},
   "outputs": [],
   "source": [
    "def IHH(Column, Divisor, Numerator, Ubac, Data_Gruop, Data_Merge):\n",
    "  for i, df in enumerate(Data_Gruop):\n",
    "    for index in df.index:\n",
    "      if index in Data_Merge[i][Column].unique():               \n",
    "        Numerator = Data_Merge[i].set_index(Column)[Divisor]\n",
    "        Denominator = df[\"SUM-WORKERS\"]\n",
    "        Total = (Numerator / Denominator) * 100\n",
    "        Data_Merge[i].loc[Data_Merge[i][Column], Ubac] = Total\n",
    "  return Data_Merge"
   ]
  },
  {
   "cell_type": "code",
   "execution_count": null,
   "metadata": {},
   "outputs": [],
   "source": [
    "Data_Merge = change_name(Data_Merge,3,\"CIIU\")"
   ]
  },
  {
   "cell_type": "code",
   "execution_count": null,
   "metadata": {},
   "outputs": [],
   "source": [
    "Data_Merge = change_label(Data_Merge)"
   ]
  },
  {
   "cell_type": "code",
   "execution_count": null,
   "metadata": {},
   "outputs": [],
   "source": [
    "exis_colum(Data_Merge,\"CIIU\")\n",
    "exis_colum(Data_Merge,\"C4R4C9T\")\n",
    "exis_colum(Data_Merge,\"C4R4C10T\")"
   ]
  },
  {
   "cell_type": "code",
   "execution_count": null,
   "metadata": {},
   "outputs": [],
   "source": [
    "Data_Merge=Sort(\"CIIU\",Data_Merge)"
   ]
  },
  {
   "cell_type": "code",
   "execution_count": null,
   "metadata": {},
   "outputs": [],
   "source": [
    "#Para crear un data frame agrupado de una base de datos\n",
    "for i in range (len(Data_Merge)):\n",
    "    index=Data_Merge[i][\"CIIU\"].drop_duplicates().sort_values()\n",
    "    Data_Gruop[i]= pd.DataFrame(index=index,columns=[\"SUM-WORKERS_M\",\"SUM-WORKERS_F\",\"SUM-WORKERS\",\"MED-WAGE\",\"IHH\",\"Count_CIIU\",'Simetria',\"rango\"])\n"
   ]
  },
  {
   "cell_type": "code",
   "execution_count": null,
   "metadata": {},
   "outputs": [],
   "source": [
    "Data_Gruop=calculate_avg_or_sum(\"CIIU\",\"C4R4C9T\",\"SUM-WORKERS_F\",Data_Gruop,Data_Merge,\"sum\")\n",
    "Data_Gruop=calculate_avg_or_sum(\"CIIU\",\"C4R4C10T\",\"SUM-WORKERS_M\",Data_Gruop,Data_Merge,\"sum\")\n",
    "Data_Gruop=calculate_avg_or_sum(\"CIIU\",\"C3R2C3\",\"MED-WAGE\",Data_Gruop,Data_Merge,\"med\")"
   ]
  },
  {
   "cell_type": "code",
   "execution_count": null,
   "metadata": {},
   "outputs": [],
   "source": [
    "for df  in Data_Gruop:\n",
    "    df[\"SUM-WORKERS\"] = df.apply(lambda row: sum_of_rows(row,\"SUM-WORKERS_M\",\"SUM-WORKERS_F\"), axis=1)"
   ]
  },
  {
   "cell_type": "code",
   "execution_count": null,
   "metadata": {},
   "outputs": [],
   "source": [
    "for df  in Data_Merge:\n",
    "    df[\"WORKERS\"] = df.apply(lambda row: sum_of_rows(row,\"C4R4C10T\",\"C4R4C9T\"), axis=1)\n",
    "    df[\"IHH_ONE\"] = None"
   ]
  },
  {
   "cell_type": "code",
   "execution_count": null,
   "metadata": {},
   "outputs": [],
   "source": [
    "Data_Gruop[1]"
   ]
  },
  {
   "cell_type": "code",
   "execution_count": null,
   "metadata": {},
   "outputs": [],
   "source": [
    "Data_Merge=IHH(\"CIIU\",\"WORKERS\",\"SUM-WORKERS\",\"IHH_ONE\",Data_Gruop,Data_Merge) #Aquí estoy sacando el ihh"
   ]
  },
  {
   "cell_type": "code",
   "execution_count": null,
   "metadata": {},
   "outputs": [],
   "source": [
    "Data_Gruop=calculate_avg_or_sum(\"CIIU\",\"IHH_ONE\",\"IHH\",Data_Gruop,Data_Merge,\"sum\") ##Sumo el IHH individual"
   ]
  },
  {
   "cell_type": "code",
   "execution_count": null,
   "metadata": {},
   "outputs": [],
   "source": [
    "Data_Gruop=calculate_avg_or_sum(\"CIIU\",\"CIIU\",\"Count_CIIU\",Data_Gruop,Data_Merge,\"count\")   ## Cuanto la cantidad de empresas que hay ´por CIIU "
   ]
  },
  {
   "cell_type": "code",
   "execution_count": null,
   "metadata": {},
   "outputs": [],
   "source": [
    "Data_Gruop=calculate_avg_or_sum(\"CIIU\",\"C3R2C3\",\"Simetria\",Data_Gruop,Data_Merge,\"coe_sim\")  #Miro el coeficiente de simetria"
   ]
  },
  {
   "cell_type": "code",
   "execution_count": null,
   "metadata": {},
   "outputs": [],
   "source": [
    "Data_Gruop=calculate_avg_or_sum(\"CIIU\",\"C3R2C3\",\"rango\",Data_Gruop,Data_Merge,\"rango\")"
   ]
  },
  {
   "cell_type": "code",
   "execution_count": null,
   "metadata": {},
   "outputs": [],
   "source": [
    "for i, df in enumerate(Data_Gruop):\n",
    "    df[\"IHH_cuadrado\"] = df[\"IHH\"] ** 2\n",
    "\n",
    "    conditions = [\n",
    "        df[\"IHH_cuadrado\"] <= 1000,\n",
    "        (1000 <= df[\"IHH_cuadrado\"]) & (df[\"IHH_cuadrado\"] < 1800),\n",
    "        df[\"IHH_cuadrado\"] >= 1800\n",
    "    ]\n",
    "    values = [1, 2, 3]\n",
    "\n",
    "    df[\"IHH_resultado\"] = np.select(conditions, values, default=np.nan)\n",
    "\n",
    "    #Hay un problema y es que son 3 .-."
   ]
  },
  {
   "cell_type": "code",
   "execution_count": null,
   "metadata": {},
   "outputs": [],
   "source": [
    "exis_colum(Data_Gruop,\"IHH\")"
   ]
  },
  {
   "cell_type": "code",
   "execution_count": null,
   "metadata": {},
   "outputs": [],
   "source": [
    "Data_Gruop[0]"
   ]
  },
  {
   "cell_type": "code",
   "execution_count": null,
   "metadata": {},
   "outputs": [],
   "source": [
    "#Promedios Ponderados  -- para calcular \n",
    "#Para el salario se saca la mediana pagada por cada sector \n",
    "# Para saber si el promedio es un buen estadistico se realiza un examen de simetria\n",
    "#Datos de estilizados -- Indicador: "
   ]
  },
  {
   "cell_type": "markdown",
   "metadata": {},
   "source": [
    "Se comienza a trabajar con los datos sacados por hechos estilizados"
   ]
  },
  {
   "cell_type": "markdown",
   "metadata": {},
   "source": [
    "Se imprime una grafica de barras del IHH por sector para todos los años"
   ]
  },
  {
   "cell_type": "code",
   "execution_count": null,
   "metadata": {},
   "outputs": [],
   "source": [
    "def count_IHH(Grupo_datos, df,SUM):\n",
    "    for i, data_frame in enumerate(Grupo_datos):\n",
    "        conteo = data_frame[SUM].value_counts()\n",
    "        for valor in conteo.index:\n",
    "            conteo_valor = conteo.loc[valor]\n",
    "            df.at[df.index[i], valor] = conteo_valor\n",
    "    return df"
   ]
  },
  {
   "cell_type": "code",
   "execution_count": null,
   "metadata": {},
   "outputs": [],
   "source": [
    "Index=[]\n",
    "for i in range(len(Data_Gruop)):\n",
    "    w = 2008 + i \n",
    "    Index.append(w)\n",
    "Columns = [1, 2, 3]\n",
    "df = pd.DataFrame(index=Index, columns=Columns)\n",
    "df"
   ]
  },
  {
   "cell_type": "code",
   "execution_count": null,
   "metadata": {},
   "outputs": [],
   "source": [
    "df=count_IHH(Data_Gruop,df,\"IHH_resultado\")"
   ]
  },
  {
   "cell_type": "code",
   "execution_count": null,
   "metadata": {},
   "outputs": [],
   "source": [
    "# Crear una figura para el gráfico\n",
    "plt.figure()\n",
    "\n",
    "# Graficar los resultados de IHH_resultado con un gráfico de barras\n",
    "df.plot(kind='bar', width=0.8)\n",
    "\n",
    "# Etiquetas y título del gráfico\n",
    "plt.xlabel(\"Años\")\n",
    "plt.ylabel(\"Cantidad de Sectores\")\n",
    "plt.title(\"Resultados de IHH por Índice\")\n",
    "\n",
    "# Mostrar el gráfico\n",
    "plt.show()"
   ]
  },
  {
   "cell_type": "markdown",
   "metadata": {},
   "source": [
    "Se imprime una grafica con el promedio del salario medio pagado por sectores con poder y sin poder."
   ]
  },
  {
   "cell_type": "code",
   "execution_count": null,
   "metadata": {},
   "outputs": [],
   "source": [
    "Prom =[]\n",
    "for i in range(len(Data_Gruop)):\n",
    "    w = 2008 + i \n",
    "    Prom.append(w)\n",
    "X=['Salario_Medio']\n",
    "Promedio_years= pd.DataFrame(index=Index, columns=X)\n",
    "\n",
    "#Creamos un dataframe donde agrupa la mediana de cada CIIU para cada año"
   ]
  },
  {
   "cell_type": "code",
   "execution_count": null,
   "metadata": {},
   "outputs": [],
   "source": [
    "year = 2008 \n",
    "for df in Data_Gruop:\n",
    "    median_wage = df[\"MED-WAGE\"].median()\n",
    "    Promedio_years.at[year, 'Salario_Medio'] = median_wage\n",
    "    year += 1"
   ]
  },
  {
   "cell_type": "code",
   "execution_count": null,
   "metadata": {},
   "outputs": [],
   "source": [
    "# Leer el archivo de Excel\n",
    "IPC_doc = pd.read_excel(\"Data\\\\IPC.xlsx\", header=0)\n",
    "\n",
    "# Crear un DataFrame IPC a partir de los datos leídos\n",
    "IPC = pd.DataFrame({'Año': IPC_doc.iloc[:, 0], 'IPC': IPC_doc.iloc[:, 1]})\n",
    "\n",
    "Index = []\n",
    "for i in range(len(Data_Gruop)):\n",
    "    w = 2008 + i \n",
    "    Index.append(w)\n",
    "\n",
    "# Establecer el índice del DataFrame IPC usando la lista Index\n",
    "IPC.set_index('Año', inplace=True)\n",
    "\n",
    "# Reemplazar el índice existente con la lista Index\n",
    "IPC.index = Index\n",
    "\n",
    "# Imprimir el DataFrame resultante\n",
    "print(IPC)\n",
    "\n"
   ]
  },
  {
   "cell_type": "code",
   "execution_count": null,
   "metadata": {},
   "outputs": [],
   "source": [
    "Promedio_years"
   ]
  },
  {
   "cell_type": "code",
   "execution_count": null,
   "metadata": {},
   "outputs": [],
   "source": [
    "Promedio_years[\"InflaciónIPC\"] = IPC[\"IPC\"]\n",
    "Promedio_years['REAL_WAGE'] = (Promedio_years[\"Salario_Medio\"]  / Promedio_years[\"InflaciónIPC\"]) *100\n",
    "Promedio_years"
   ]
  },
  {
   "cell_type": "code",
   "execution_count": null,
   "metadata": {},
   "outputs": [],
   "source": [
    "import matplotlib.pyplot as plt\n",
    "\n",
    "# Supongamos que 'df' es tu DataFrame con una columna \"Datos\" y un índice deseado en el eje X\n",
    "\n",
    "# Obtén los valores del índice y los datos de las columnas\n",
    "x_values = Promedio_years.index\n",
    "y_values_1 = Promedio_years['REAL_WAGE']\n",
    "y_values_2 = Promedio_years['Salario_Medio']\n",
    "\n",
    "# Crea la figura y los ejes\n",
    "fig, ax1 = plt.subplots()\n",
    "\n",
    "# Crea un segundo eje Y que comparta el mismo eje X\n",
    "ax2 = ax1.twinx()\n",
    "\n",
    "# Trazar datos en el primer eje Y\n",
    "ax1.plot(x_values, y_values_1, marker='o', linestyle='-', color='b', label='REAL_WAGE')\n",
    "ax1.set_xlabel('Años')\n",
    "ax1.set_ylabel('Mediana del Salario REAL', color='b')\n",
    "\n",
    "# Trazar datos en el segundo eje Y\n",
    "ax2.plot(x_values, y_values_2, marker='s', linestyle='--', color='r', label='Salario_Medio')\n",
    "ax2.set_ylabel('Salario Medio', color='r')\n",
    "\n",
    "# Agregar leyendas para las líneas\n",
    "ax1.legend(loc='upper left', bbox_to_anchor=(0.05, 0.95))\n",
    "ax2.legend(loc='upper left', bbox_to_anchor=(0.05, 0.87))\n",
    "\n",
    "# Título del gráfico\n",
    "plt.title('Mediana del Salario y Salario Medio Real')\n",
    "\n",
    "# Muestra el gráfico\n",
    "plt.show()"
   ]
  },
  {
   "cell_type": "code",
   "execution_count": null,
   "metadata": {},
   "outputs": [],
   "source": [
    "\n",
    "import matplotlib.pyplot as plt\n",
    "\n",
    "# Supongamos que 'df' es tu DataFrame con una columna \"Datos\" y un índice deseado en el eje X\n",
    "\n",
    "# Obtén los valores del índice y los datos de la columna\n",
    "x_values = Promedio_years.index\n",
    "y_values= Promedio_years['Salario_Medio']\n",
    "\n",
    "\n",
    "# Crea el gráfico de línea con puntos\n",
    "plt.plot(x_values, y_values, marker='o', linestyle='-')\n",
    "\n",
    "# Etiqueta de los ejes\n",
    "plt.xlabel('Años')\n",
    "plt.ylabel('Mediana del Salario')\n",
    "\n",
    "# Título del gráfico\n",
    "plt.title('Mediana del Salario pagado por año')\n",
    "\n",
    "# Muestra el gráfico\n",
    "plt.show()"
   ]
  },
  {
   "cell_type": "code",
   "execution_count": null,
   "metadata": {},
   "outputs": [],
   "source": [
    "\n",
    "# # Crear una figura para el gráfico\n",
    "# plt.figure()\n",
    "\n",
    "# # Graficar los resultados de IHH_resultado con un gráfico de barras\n",
    "# df.plot(kind='line', marker='o')\n",
    "\n",
    "# # Etiquetas y título del gráfico\n",
    "# plt.xlabel(\"Años\")\n",
    "# plt.ylabel(\"Cantidad de Sectores\")\n",
    "# plt.title(\"Resultados de IHH por Índice\")\n",
    "\n",
    "# # Mostrar el gráfico\n",
    "# plt.show()"
   ]
  }
 ],
 "metadata": {
  "kernelspec": {
   "display_name": "env",
   "language": "python",
   "name": "python3"
  },
  "language_info": {
   "codemirror_mode": {
    "name": "ipython",
    "version": 3
   },
   "file_extension": ".py",
   "mimetype": "text/x-python",
   "name": "python",
   "nbconvert_exporter": "python",
   "pygments_lexer": "ipython3",
   "version": "3.7.9"
  },
  "orig_nbformat": 4
 },
 "nbformat": 4,
 "nbformat_minor": 2
}
