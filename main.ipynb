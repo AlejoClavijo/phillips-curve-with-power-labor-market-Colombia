{
 "cells": [
  {
   "cell_type": "code",
   "execution_count": 1,
   "metadata": {},
   "outputs": [
    {
     "name": "stderr",
     "output_type": "stream",
     "text": [
      "c:\\Users\\User\\Documents\\TrabajoGrado\\env\\lib\\site-packages\\IPython\\core\\interactiveshell.py:3553: DtypeWarning: Columns (299) have mixed types.Specify dtype option on import or set low_memory=False.\n",
      "  exec(code_obj, self.user_global_ns, self.user_ns)\n",
      "c:\\Users\\User\\Documents\\TrabajoGrado\\env\\lib\\site-packages\\IPython\\core\\interactiveshell.py:3553: DtypeWarning: Columns (182,183,184,185,186,187,188,189,190,191,302) have mixed types.Specify dtype option on import or set low_memory=False.\n",
      "  exec(code_obj, self.user_global_ns, self.user_ns)\n",
      "c:\\Users\\User\\Documents\\TrabajoGrado\\env\\lib\\site-packages\\IPython\\core\\interactiveshell.py:3553: DtypeWarning: Columns (182,183,184,185,186,187,188,189,190,191,192,193,194,195,196,197,198,199,200,201,202,203,204,205,206,207,208,209,210,211,212,213,214,215,216,217,218,219,220,221,222,223,224,225,226,227,228,229,230,231,232,233,234,235,236,237,238,239,240,241,242,243,244,245,246,247,248,249,250,251,252,253,254,255,256,257,258,259,260,261,262,263,264,265,266,267,268,269,270,271,272,273,274,275,276,277,278,279,280,281,282,283,284,285,286,287,288,289,290,291,292,293,294,295,296,297,298,299,300,301,302,376) have mixed types.Specify dtype option on import or set low_memory=False.\n",
      "  exec(code_obj, self.user_global_ns, self.user_ns)\n",
      "c:\\Users\\User\\Documents\\TrabajoGrado\\env\\lib\\site-packages\\IPython\\core\\interactiveshell.py:3553: DtypeWarning: Columns (303,304,305,306,307,308,309,310,311,312,313,314,315,316,317,318,319,320,321,322,323,324,325,326,327,328,329,330,331,332,333,334,335,336,337,338,339,340,341,342,343,344,345,346,347,348,349,350,351,352,353,354,355,356,357,358,359,360,361,362,363) have mixed types.Specify dtype option on import or set low_memory=False.\n",
      "  exec(code_obj, self.user_global_ns, self.user_ns)\n",
      "c:\\Users\\User\\Documents\\TrabajoGrado\\env\\lib\\site-packages\\IPython\\core\\interactiveshell.py:3553: DtypeWarning: Columns (302,303,304,305,306,307,308,309,310,311,312,313,314,315,316,317,318,319,320,321,322,323,324,325,326,327,328,329,330,331,332,333,334,335,336,337,338,339,340,341,342,343,344,345,346,347,348,349,350,351,352,353,354,355,356,357,358,359,360,361,362,363) have mixed types.Specify dtype option on import or set low_memory=False.\n",
      "  exec(code_obj, self.user_global_ns, self.user_ns)\n",
      "c:\\Users\\User\\Documents\\TrabajoGrado\\env\\lib\\site-packages\\IPython\\core\\interactiveshell.py:3553: DtypeWarning: Columns (302) have mixed types.Specify dtype option on import or set low_memory=False.\n",
      "  exec(code_obj, self.user_global_ns, self.user_ns)\n"
     ]
    },
    {
     "name": "stdout",
     "output_type": "stream",
     "text": [
      "ok\n"
     ]
    }
   ],
   "source": [
    "import pandas as pd     \n",
    "import numpy as np \n",
    "import glob as glob\n",
    "\n",
    "Base=[]\n",
    "csv_files = glob.glob('Data/*.csv')\n",
    "\n",
    "for filename in csv_files:\n",
    "    if filename == \"Data\\\\EAM_2020.csv\":\n",
    "        print(\"ok\")\n",
    "        data = pd.read_csv(filename,sep=\",\")   \n",
    "    else:\n",
    "        data = pd.read_csv(filename,sep=\";\")\n",
    "      \n",
    "    Base.append(data)"
   ]
  },
  {
   "cell_type": "code",
   "execution_count": 2,
   "metadata": {},
   "outputs": [],
   "source": [
    "EAM08,EAM09,EAM10,EAM11,EAM12,EAM13,EAM14,EAM15,EAM16,EAM17,EAM18,EAM19,EAM20 = Base\n",
    "#Assign each dataframe a variable of the \"Base\"\n",
    "Data_Merge = [EAM08,EAM09,EAM10,EAM11,EAM12,EAM13,EAM14,EAM15,EAM16,EAM17,EAM18,EAM19,EAM20]\n",
    "#Create a list of the dataframe\n",
    "\n",
    "EAM08_G,EAM09_G,EAM10_G,EAM11_G,EAM12_G,EAM13_G,EAM14_G, \\\n",
    "            EAM15_G,EAM16_G,EAM17_G,EAM18_G,EAM19_G,EAM20_G=\\\n",
    "                0,0,0,0,0,0,0,0,0,0,0,0,0\n",
    "\n",
    "Data_Gruop = [EAM08_G,EAM09_G,EAM10_G,EAM11_G,EAM12_G,EAM13_G,EAM14_G, \\\n",
    "            EAM15_G,EAM16_G,EAM17_G,EAM18_G,EAM19_G,EAM20_G]"
   ]
  },
  {
   "cell_type": "code",
   "execution_count": 3,
   "metadata": {},
   "outputs": [],
   "source": [
    "def change_name(Data_Merge, Number, change):\n",
    "    for df in Data_Merge:\n",
    "        if len(df.columns) > Number: #Verificar si el dataframe tiene al menos 4 columnas\n",
    "            df.columns.values[Number] = change #Me cambia el name de el label \n",
    "\n",
    "    return Data_Merge"
   ]
  },
  {
   "cell_type": "code",
   "execution_count": 4,
   "metadata": {},
   "outputs": [],
   "source": [
    "#Función para saber si una columna esta presenta en un dataframe\n",
    "def Exis(Data_Merge,item): \n",
    "    columna_presente = True\n",
    "    for df in Data_Merge:\n",
    "        if item not in df.columns:\n",
    "            columna_resente = False\n",
    "    return columna_presente"
   ]
  },
  {
   "cell_type": "code",
   "execution_count": 5,
   "metadata": {},
   "outputs": [],
   "source": [
    "#Función para saber si existen datos faltantes en la columna\n",
    "def exis_colum(Data_Merge,colum):\n",
    "    missing_col=0\n",
    "    for i in Data_Merge:\n",
    "        missing_col += i[colum].isnull().sum()\n",
    "    return missing_col"
   ]
  },
  {
   "cell_type": "code",
   "execution_count": 6,
   "metadata": {},
   "outputs": [],
   "source": [
    "#Función para ordenar, por una columna\n",
    "def Sort(Column,Data_Merge):\n",
    "    for i, d in enumerate(Data_Merge):\n",
    "        sorted_df = d.sort_values(by=Column)\n",
    "        Data_Merge[i] = sorted_df \n",
    "    return Data_Merge"
   ]
  },
  {
   "cell_type": "code",
   "execution_count": 7,
   "metadata": {},
   "outputs": [],
   "source": [
    "def Sum_Var(Column,Data_Gruop,Data_Merge):\n",
    "    total=0\n",
    "    for index in Data_Gruop.index:  #DATA.GRUOP ES UNA LISTA DE DATAFRAME NO UN DATA FRAME SOLICITO\n",
    "        total = Data_Merge[Data_Merge[Column] == index][Column].sum()\n",
    "        Data_Gruop.loc[index, Column] = total\n",
    "    return Data_Gruop"
   ]
  },
  {
   "cell_type": "code",
   "execution_count": 8,
   "metadata": {},
   "outputs": [],
   "source": [
    "Data_Merge = change_name(Data_Merge,3,\"CIIU\")"
   ]
  },
  {
   "cell_type": "code",
   "execution_count": 9,
   "metadata": {},
   "outputs": [
    {
     "data": {
      "text/plain": [
       "True"
      ]
     },
     "execution_count": 9,
     "metadata": {},
     "output_type": "execute_result"
    }
   ],
   "source": [
    "Exis(Data_Merge,\"CIIU\")\n",
    "Exis(Data_Merge,\"VALORVEN\") #Identification for VALORVEN if there is in each dataframe of the model"
   ]
  },
  {
   "cell_type": "code",
   "execution_count": 10,
   "metadata": {},
   "outputs": [
    {
     "data": {
      "text/plain": [
       "0"
      ]
     },
     "execution_count": 10,
     "metadata": {},
     "output_type": "execute_result"
    }
   ],
   "source": [
    "exis_colum(Data_Merge,\"VALORVEN\")\n",
    "exis_colum(Data_Merge,\"CIIU\")"
   ]
  },
  {
   "cell_type": "code",
   "execution_count": 11,
   "metadata": {},
   "outputs": [],
   "source": [
    "Data_Merge=Sort(\"CIIU\",Data_Merge)"
   ]
  },
  {
   "cell_type": "code",
   "execution_count": 12,
   "metadata": {},
   "outputs": [],
   "source": [
    "#Para crear un data frame agrupado de una base de datos\n",
    "for i in range (len(Data_Merge)):\n",
    "    index=Data_Merge[i][\"CIIU\"].drop_duplicates().sort_values()\n",
    "    Data_Gruop[i]= pd.DataFrame(index=index,columns=[\"SUM-VALORVEN\",\"SUM-WAGE\"])"
   ]
  },
  {
   "cell_type": "code",
   "execution_count": 13,
   "metadata": {},
   "outputs": [
    {
     "ename": "TypeError",
     "evalue": "'builtin_function_or_method' object is not iterable",
     "output_type": "error",
     "traceback": [
      "\u001b[1;31m---------------------------------------------------------------------------\u001b[0m",
      "\u001b[1;31mTypeError\u001b[0m                                 Traceback (most recent call last)",
      "\u001b[1;32m~\\AppData\\Local\\Temp\\ipykernel_1204\\1213500803.py\u001b[0m in \u001b[0;36m<module>\u001b[1;34m\u001b[0m\n\u001b[1;32m----> 1\u001b[1;33m \u001b[0mData_Gruop\u001b[0m\u001b[1;33m=\u001b[0m\u001b[0mSum_Var\u001b[0m\u001b[1;33m(\u001b[0m\u001b[1;34m\"SUM-VALORVEN\"\u001b[0m\u001b[1;33m,\u001b[0m\u001b[0mData_Gruop\u001b[0m\u001b[1;33m,\u001b[0m\u001b[0mData_Merge\u001b[0m\u001b[1;33m,\u001b[0m\u001b[1;33m)\u001b[0m\u001b[1;33m\u001b[0m\u001b[1;33m\u001b[0m\u001b[0m\n\u001b[0m",
      "\u001b[1;32m~\\AppData\\Local\\Temp\\ipykernel_1204\\930311716.py\u001b[0m in \u001b[0;36mSum_Var\u001b[1;34m(Column, Data_Gruop, Data_Merge)\u001b[0m\n\u001b[0;32m      1\u001b[0m \u001b[1;32mdef\u001b[0m \u001b[0mSum_Var\u001b[0m\u001b[1;33m(\u001b[0m\u001b[0mColumn\u001b[0m\u001b[1;33m,\u001b[0m\u001b[0mData_Gruop\u001b[0m\u001b[1;33m,\u001b[0m\u001b[0mData_Merge\u001b[0m\u001b[1;33m)\u001b[0m\u001b[1;33m:\u001b[0m\u001b[1;33m\u001b[0m\u001b[1;33m\u001b[0m\u001b[0m\n\u001b[0;32m      2\u001b[0m     \u001b[0mtotal\u001b[0m\u001b[1;33m=\u001b[0m\u001b[1;36m0\u001b[0m\u001b[1;33m\u001b[0m\u001b[1;33m\u001b[0m\u001b[0m\n\u001b[1;32m----> 3\u001b[1;33m     \u001b[1;32mfor\u001b[0m \u001b[0mindex\u001b[0m \u001b[1;32min\u001b[0m \u001b[0mData_Gruop\u001b[0m\u001b[1;33m.\u001b[0m\u001b[0mindex\u001b[0m\u001b[1;33m:\u001b[0m\u001b[1;33m\u001b[0m\u001b[1;33m\u001b[0m\u001b[0m\n\u001b[0m\u001b[0;32m      4\u001b[0m         \u001b[0mtotal\u001b[0m \u001b[1;33m=\u001b[0m \u001b[0mData_Merge\u001b[0m\u001b[1;33m[\u001b[0m\u001b[0mData_Merge\u001b[0m\u001b[1;33m[\u001b[0m\u001b[0mColumn\u001b[0m\u001b[1;33m]\u001b[0m \u001b[1;33m==\u001b[0m \u001b[0mindex\u001b[0m\u001b[1;33m]\u001b[0m\u001b[1;33m[\u001b[0m\u001b[0mColumn\u001b[0m\u001b[1;33m]\u001b[0m\u001b[1;33m.\u001b[0m\u001b[0msum\u001b[0m\u001b[1;33m(\u001b[0m\u001b[1;33m)\u001b[0m\u001b[1;33m\u001b[0m\u001b[1;33m\u001b[0m\u001b[0m\n\u001b[0;32m      5\u001b[0m         \u001b[0mData_Gruop\u001b[0m\u001b[1;33m.\u001b[0m\u001b[0mloc\u001b[0m\u001b[1;33m[\u001b[0m\u001b[0mindex\u001b[0m\u001b[1;33m,\u001b[0m \u001b[0mColumn\u001b[0m\u001b[1;33m]\u001b[0m \u001b[1;33m=\u001b[0m \u001b[0mtotal\u001b[0m\u001b[1;33m\u001b[0m\u001b[1;33m\u001b[0m\u001b[0m\n",
      "\u001b[1;31mTypeError\u001b[0m: 'builtin_function_or_method' object is not iterable"
     ]
    }
   ],
   "source": [
    "Data_Gruop=Sum_Var(\"SUM-VALORVEN\",Data_Gruop,Data_Merge,)\n"
   ]
  }
 ],
 "metadata": {
  "kernelspec": {
   "display_name": "env",
   "language": "python",
   "name": "python3"
  },
  "language_info": {
   "codemirror_mode": {
    "name": "ipython",
    "version": 3
   },
   "file_extension": ".py",
   "mimetype": "text/x-python",
   "name": "python",
   "nbconvert_exporter": "python",
   "pygments_lexer": "ipython3",
   "version": "3.7.9"
  },
  "orig_nbformat": 4
 },
 "nbformat": 4,
 "nbformat_minor": 2
}
