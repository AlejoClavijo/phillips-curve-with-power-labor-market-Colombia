{
 "cells": [
  {
   "cell_type": "code",
   "execution_count": 1,
   "metadata": {},
   "outputs": [
    {
     "name": "stderr",
     "output_type": "stream",
     "text": [
      "c:\\Users\\ALEJANDRO\\Documents\\TrabajoGradoAlejo\\WORK\\env\\lib\\site-packages\\IPython\\core\\interactiveshell.py:3553: DtypeWarning: Columns (299) have mixed types.Specify dtype option on import or set low_memory=False.\n",
      "  exec(code_obj, self.user_global_ns, self.user_ns)\n",
      "c:\\Users\\ALEJANDRO\\Documents\\TrabajoGradoAlejo\\WORK\\env\\lib\\site-packages\\IPython\\core\\interactiveshell.py:3553: DtypeWarning: Columns (182,183,184,185,186,187,188,189,190,191,302) have mixed types.Specify dtype option on import or set low_memory=False.\n",
      "  exec(code_obj, self.user_global_ns, self.user_ns)\n",
      "c:\\Users\\ALEJANDRO\\Documents\\TrabajoGradoAlejo\\WORK\\env\\lib\\site-packages\\IPython\\core\\interactiveshell.py:3553: DtypeWarning: Columns (182,183,184,185,186,187,188,189,190,191,192,193,194,195,196,197,198,199,200,201,202,203,204,205,206,207,208,209,210,211,212,213,214,215,216,217,218,219,220,221,222,223,224,225,226,227,228,229,230,231,232,233,234,235,236,237,238,239,240,241,242,243,244,245,246,247,248,249,250,251,252,253,254,255,256,257,258,259,260,261,262,263,264,265,266,267,268,269,270,271,272,273,274,275,276,277,278,279,280,281,282,283,284,285,286,287,288,289,290,291,292,293,294,295,296,297,298,299,300,301,302,376) have mixed types.Specify dtype option on import or set low_memory=False.\n",
      "  exec(code_obj, self.user_global_ns, self.user_ns)\n",
      "c:\\Users\\ALEJANDRO\\Documents\\TrabajoGradoAlejo\\WORK\\env\\lib\\site-packages\\IPython\\core\\interactiveshell.py:3553: DtypeWarning: Columns (303,304,305,306,307,308,309,310,311,312,313,314,315,316,317,318,319,320,321,322,323,324,325,326,327,328,329,330,331,332,333,334,335,336,337,338,339,340,341,342,343,344,345,346,347,348,349,350,351,352,353,354,355,356,357,358,359,360,361,362,363) have mixed types.Specify dtype option on import or set low_memory=False.\n",
      "  exec(code_obj, self.user_global_ns, self.user_ns)\n",
      "c:\\Users\\ALEJANDRO\\Documents\\TrabajoGradoAlejo\\WORK\\env\\lib\\site-packages\\IPython\\core\\interactiveshell.py:3553: DtypeWarning: Columns (302,303,304,305,306,307,308,309,310,311,312,313,314,315,316,317,318,319,320,321,322,323,324,325,326,327,328,329,330,331,332,333,334,335,336,337,338,339,340,341,342,343,344,345,346,347,348,349,350,351,352,353,354,355,356,357,358,359,360,361,362,363) have mixed types.Specify dtype option on import or set low_memory=False.\n",
      "  exec(code_obj, self.user_global_ns, self.user_ns)\n",
      "c:\\Users\\ALEJANDRO\\Documents\\TrabajoGradoAlejo\\WORK\\env\\lib\\site-packages\\IPython\\core\\interactiveshell.py:3553: DtypeWarning: Columns (302) have mixed types.Specify dtype option on import or set low_memory=False.\n",
      "  exec(code_obj, self.user_global_ns, self.user_ns)\n"
     ]
    },
    {
     "name": "stdout",
     "output_type": "stream",
     "text": [
      "ok\n"
     ]
    }
   ],
   "source": [
    "import pandas as pd     \n",
    "import numpy as np \n",
    "import glob as glob\n",
    "\n",
    "Base=[]\n",
    "csv_files = glob.glob('Data/*.csv')\n",
    "\n",
    "for filename in csv_files:\n",
    "    if filename == \"Data\\\\EAM_2020.csv\":\n",
    "        print(\"ok\")\n",
    "        data = pd.read_csv(filename,sep=\",\")   \n",
    "    else:\n",
    "        data = pd.read_csv(filename,sep=\";\")\n",
    "      \n",
    "    Base.append(data)"
   ]
  },
  {
   "cell_type": "code",
   "execution_count": 2,
   "metadata": {},
   "outputs": [],
   "source": [
    "EAM08,EAM09,EAM10,EAM11,EAM12,EAM13,EAM14,EAM15,EAM16,EAM17,EAM18,EAM19,EAM20 = Base\n",
    "#Assign each dataframe a variable of the \"Base\"\n",
    "Data_Merge = [EAM08,EAM09,EAM10,EAM11,EAM12,EAM13,EAM14,EAM15,EAM16,EAM17,EAM18,EAM19,EAM20]\n",
    "#Create a list of the dataframe\n",
    "EAM08_G,EAM09_G,EAM10_G,EAM11_G,EAM12_G,EAM13_G,EAM14_G, \\\n",
    "            EAM15_G,EAM16_G,EAM17_G,EAM18_G,EAM19_G,EAM20_G=\\\n",
    "                0,0,0,0,0,0,0,0,0,0,0,0,0\n",
    "Data_Gruop = [EAM08_G,EAM09_G,EAM10_G,EAM11_G,EAM12_G,EAM13_G,EAM14_G, \\\n",
    "            EAM15_G,EAM16_G,EAM17_G,EAM18_G,EAM19_G,EAM20_G]"
   ]
  },
  {
   "cell_type": "code",
   "execution_count": 3,
   "metadata": {},
   "outputs": [],
   "source": [
    "#PARA CAMBIAR UN LABEL EN UNA UBICACIÓN ESPECIFICA NO ESTANDARIZADO\n",
    "def change_name(Data_Merge, Number, change):\n",
    "    for df in Data_Merge:\n",
    "        if len(df.columns) > Number: #Verificar si el dataframe tiene al menos 4 columnas\n",
    "            df.columns.values[Number] = change #Me cambia el name de el label \n",
    "    return Data_Merge"
   ]
  },
  {
   "cell_type": "code",
   "execution_count": 4,
   "metadata": {},
   "outputs": [],
   "source": [
    "#Para estandairzar los labels\n",
    "def change_label(Data_Merge):\n",
    "    for df in Data_Merge:\n",
    "        columnas = df.columns.tolist() #Crea una lista de columnas\n",
    "        nuevas_columnas = [columna.upper() for columna in columnas] # coloca en mayusculas cada columna de lista\n",
    "        df.columns = nuevas_columnas #Asigna el nuevo nombre\n",
    "    return Data_Merge"
   ]
  },
  {
   "cell_type": "code",
   "execution_count": 5,
   "metadata": {},
   "outputs": [],
   "source": [
    "#Función para saber si una columna esta presente en un dataframe\n",
    "def Exis(Data_Merge, item):\n",
    "    for i, df in enumerate(Data_Merge):\n",
    "        if item not in df.columns:\n",
    "            columna_ausente = True\n",
    "            print(f\"El item no está presente en el DataFrame {i}.\")\n",
    "        else:\n",
    "            columna_ausente = False\n",
    "            print(f\"El item  está presente en el DataFrame {i}.\")\n",
    "    return columna_ausente"
   ]
  },
  {
   "cell_type": "code",
   "execution_count": 6,
   "metadata": {},
   "outputs": [],
   "source": [
    "#Función para saber si existen datos faltantes en la columna\n",
    "def exis_colum(Data_Merge,colum):\n",
    "    missing_col=0\n",
    "    for i in Data_Merge:\n",
    "        missing_col += i[colum].isnull().sum()\n",
    "    return missing_col"
   ]
  },
  {
   "cell_type": "code",
   "execution_count": 7,
   "metadata": {},
   "outputs": [],
   "source": [
    "#Función para ordenar, por una columna \n",
    "def Sort(Column,Data_Merge):\n",
    "    for i, d in enumerate(Data_Merge):\n",
    "        sorted_df = d.sort_values(by=Column)\n",
    "        Data_Merge[i] = sorted_df \n",
    "    return Data_Merge"
   ]
  },
  {
   "cell_type": "code",
   "execution_count": 8,
   "metadata": {},
   "outputs": [],
   "source": [
    "def calculate_avg_or_sum(Column, SUMATION, UBACATION, Data_Gruop, Data_Merge, operation):\n",
    "    for i, df in enumerate(Data_Gruop):\n",
    "        for index in df.index:\n",
    "            if index in Data_Merge[i][Column].unique():\n",
    "                total = Data_Merge[i][Data_Merge[i][Column] == index][SUMATION]\n",
    "                if operation == 'mean':\n",
    "                    total=total.mean()\n",
    "                    df.loc[index, UBACATION] = total\n",
    "                elif operation == 'sum':\n",
    "                    total=total.sum()\n",
    "                    df.loc[index, UBACATION] = total\n",
    "                elif operation == 'count':\n",
    "                    total=total.value_counts()           \n",
    "                    df.loc[index, UBACATION] = int(total)           \n",
    "                elif operation == 'coe_sim':\n",
    "                    total=total.skew()  #Da como resultado el coeficiente de asimetria de fisher\n",
    "                    df.loc[index, UBACATION] = total\n",
    "    return Data_Gruop"
   ]
  },
  {
   "cell_type": "code",
   "execution_count": 9,
   "metadata": {},
   "outputs": [],
   "source": [
    "def sum_of_rows(row,Colum1,Colum2):\n",
    "    return row[Colum1] + row[Colum2]"
   ]
  },
  {
   "cell_type": "code",
   "execution_count": 10,
   "metadata": {},
   "outputs": [],
   "source": [
    "def IHH(Column, Divisor, Numerator, Ubac, Data_Gruop, Data_Merge):\n",
    "  for i, df in enumerate(Data_Gruop):\n",
    "    for index in df.index:\n",
    "      if index in Data_Merge[i][Column].unique():               \n",
    "        Numerator = Data_Merge[i].set_index(Column)[Divisor]\n",
    "        Denominator = df[\"SUM-WORKERS\"]\n",
    "        Total = (Numerator / Denominator) * 100\n",
    "        Data_Merge[i].loc[Data_Merge[i][Column], Ubac] = Total\n",
    "  return Data_Merge"
   ]
  },
  {
   "cell_type": "code",
   "execution_count": 11,
   "metadata": {},
   "outputs": [],
   "source": [
    "Data_Merge = change_name(Data_Merge,3,\"CIIU\")"
   ]
  },
  {
   "cell_type": "code",
   "execution_count": 12,
   "metadata": {},
   "outputs": [],
   "source": [
    "Data_Merge = change_label(Data_Merge)"
   ]
  },
  {
   "cell_type": "code",
   "execution_count": 13,
   "metadata": {},
   "outputs": [
    {
     "data": {
      "text/plain": [
       "0"
      ]
     },
     "execution_count": 13,
     "metadata": {},
     "output_type": "execute_result"
    }
   ],
   "source": [
    "exis_colum(Data_Merge,\"CIIU\")\n",
    "exis_colum(Data_Merge,\"C4R4C9T\")\n",
    "exis_colum(Data_Merge,\"C4R4C10T\")"
   ]
  },
  {
   "cell_type": "code",
   "execution_count": 14,
   "metadata": {},
   "outputs": [],
   "source": [
    "Data_Merge=Sort(\"CIIU\",Data_Merge)"
   ]
  },
  {
   "cell_type": "code",
   "execution_count": 15,
   "metadata": {},
   "outputs": [],
   "source": [
    "#Para crear un data frame agrupado de una base de datos\n",
    "for i in range (len(Data_Merge)):\n",
    "    index=Data_Merge[i][\"CIIU\"].drop_duplicates().sort_values()\n",
    "    Data_Gruop[i]= pd.DataFrame(index=index,columns=[\"SUM-WORKERS_M\",\"SUM-WORKERS_F\",\"SUM-WORKERS\",\"SUM-WAGE\",\"IHH\",\"Count_CIIU\",'Simetria'])\n"
   ]
  },
  {
   "cell_type": "code",
   "execution_count": 16,
   "metadata": {},
   "outputs": [],
   "source": [
    "Data_Gruop=calculate_avg_or_sum(\"CIIU\",\"C4R4C9T\",\"SUM-WORKERS_F\",Data_Gruop,Data_Merge,\"sum\")\n",
    "Data_Gruop=calculate_avg_or_sum(\"CIIU\",\"C4R4C10T\",\"SUM-WORKERS_M\",Data_Gruop,Data_Merge,\"sum\")\n",
    "Data_Gruop=calculate_avg_or_sum(\"CIIU\",\"C3R2C3\",\"SUM-WAGE\",Data_Gruop,Data_Merge,\"mean\")"
   ]
  },
  {
   "cell_type": "code",
   "execution_count": 17,
   "metadata": {},
   "outputs": [],
   "source": [
    "for df  in Data_Gruop:\n",
    "    df[\"SUM-WORKERS\"] = df.apply(lambda row: sum_of_rows(row,\"SUM-WORKERS_M\",\"SUM-WORKERS_F\"), axis=1)"
   ]
  },
  {
   "cell_type": "code",
   "execution_count": 18,
   "metadata": {},
   "outputs": [],
   "source": [
    "for df  in Data_Merge:\n",
    "    df[\"WORKERS\"] = df.apply(lambda row: sum_of_rows(row,\"C4R4C10T\",\"C4R4C9T\"), axis=1)\n",
    "    df[\"IHH_ONE\"] = None"
   ]
  },
  {
   "cell_type": "code",
   "execution_count": 19,
   "metadata": {},
   "outputs": [],
   "source": [
    "Data_Merge=IHH(\"CIIU\",\"WORKERS\",\"SUM-WORKERS\",\"IHH_ONE\",Data_Gruop,Data_Merge) #Aquí estoy sacando el ihh"
   ]
  },
  {
   "cell_type": "code",
   "execution_count": 20,
   "metadata": {},
   "outputs": [],
   "source": [
    "Data_Gruop=calculate_avg_or_sum(\"CIIU\",\"IHH_ONE\",\"IHH\",Data_Gruop,Data_Merge,\"sum\") ##Sumo el IHH individual"
   ]
  },
  {
   "cell_type": "code",
   "execution_count": 21,
   "metadata": {},
   "outputs": [],
   "source": [
    "Data_Gruop=calculate_avg_or_sum(\"CIIU\",\"CIIU\",\"Count_CIIU\",Data_Gruop,Data_Merge,\"count\")   ## Cuanto la cantidad de empresas que hay ´por CIIU "
   ]
  },
  {
   "cell_type": "code",
   "execution_count": 22,
   "metadata": {},
   "outputs": [],
   "source": [
    "Data_Gruop=calculate_avg_or_sum(\"CIIU\",\"C3R2C3\",\"Simetria\",Data_Gruop,Data_Merge,\"coe_sim\")  #Miro el coeficiente de simetria"
   ]
  },
  {
   "cell_type": "code",
   "execution_count": 23,
   "metadata": {},
   "outputs": [],
   "source": [
    "for i, df in enumerate(Data_Gruop):\n",
    "    df[\"IHH_cuadrado\"] = df[\"IHH\"] ** 2\n",
    "\n",
    "    conditions = [\n",
    "        df[\"IHH_cuadrado\"] <= 1000,\n",
    "        (1000 <= df[\"IHH_cuadrado\"]) & (df[\"IHH_cuadrado\"] < 1800),\n",
    "        df[\"IHH_cuadrado\"] >= 1800\n",
    "    ]\n",
    "    values = [1, 2, 3]\n",
    "\n",
    "    df[\"IHH_resultado\"] = np.select(conditions, values, default=np.nan)\n",
    "\n",
    "    #Hay un problema y es que son 3 .-."
   ]
  },
  {
   "cell_type": "code",
   "execution_count": 24,
   "metadata": {},
   "outputs": [
    {
     "data": {
      "text/plain": [
       "0"
      ]
     },
     "execution_count": 24,
     "metadata": {},
     "output_type": "execute_result"
    }
   ],
   "source": [
    "exis_colum(Data_Gruop,\"IHH\")"
   ]
  },
  {
   "cell_type": "code",
   "execution_count": 31,
   "metadata": {},
   "outputs": [
    {
     "name": "stdout",
     "output_type": "stream",
     "text": [
      "0: 25\n",
      "1: 23\n",
      "2: 21\n",
      "3: 17\n",
      "4: 19\n",
      "5: 21\n",
      "6: 15\n",
      "7: 13\n",
      "8: 21\n",
      "9: 21\n",
      "10: 17\n",
      "11: 20\n",
      "12: 20\n"
     ]
    }
   ],
   "source": [
    "for i,f in enumerate(Data_Gruop):\n",
    "    count = (f[\"Simetria\"].between(0, 0.7)).sum()\n",
    "    print(f\"{i}: {count}\")"
   ]
  },
  {
   "cell_type": "code",
   "execution_count": null,
   "metadata": {},
   "outputs": [],
   "source": [
    "#Promedios Ponderados  -- para calcular \n",
    "# Para saber si el promedio es un buen estadistico se realiza un examen de simetria\n",
    "#Datos de estilizados -- Indicador: "
   ]
  },
  {
   "cell_type": "markdown",
   "metadata": {},
   "source": [
    "Se comienza a trabajar con los datos sacados por hechos estilizados"
   ]
  },
  {
   "cell_type": "code",
   "execution_count": null,
   "metadata": {},
   "outputs": [],
   "source": [
    "def count_IHH(Grupo_datos, df,SUM):\n",
    "    for i, data_frame in enumerate(Grupo_datos):\n",
    "        conteo = data_frame[SUM].value_counts()\n",
    "        for valor in conteo.index:\n",
    "            conteo_valor = conteo.loc[valor]\n",
    "            df.at[df.index[i], valor] = conteo_valor\n",
    "    return df"
   ]
  },
  {
   "cell_type": "code",
   "execution_count": null,
   "metadata": {},
   "outputs": [],
   "source": [
    "Index=[]\n",
    "for i in range(len(Data_Gruop)):\n",
    "    w = 2008 + i \n",
    "    Index.append(w)\n",
    "Columns = [1, 2, 3]\n",
    "df = pd.DataFrame(index=Index, columns=Columns)\n",
    "df"
   ]
  },
  {
   "cell_type": "code",
   "execution_count": null,
   "metadata": {},
   "outputs": [],
   "source": [
    "df=count_IHH(Data_Gruop,df,\"IHH_resultado\")"
   ]
  },
  {
   "cell_type": "code",
   "execution_count": null,
   "metadata": {},
   "outputs": [],
   "source": [
    "df"
   ]
  },
  {
   "cell_type": "code",
   "execution_count": null,
   "metadata": {},
   "outputs": [],
   "source": [
    "import matplotlib.pyplot as plt\n",
    "\n",
    "# Crear una figura para el gráfico\n",
    "plt.figure()\n",
    "\n",
    "# Graficar los resultados de IHH_resultado con un gráfico de barras\n",
    "df.plot(kind='bar', width=0.8)\n",
    "\n",
    "# Etiquetas y título del gráfico\n",
    "plt.xlabel(\"Años\")\n",
    "plt.ylabel(\"Cantidad de Sectores\")\n",
    "plt.title(\"Resultados de IHH por Índice\")\n",
    "\n",
    "# Mostrar el gráfico\n",
    "plt.show()\n"
   ]
  },
  {
   "cell_type": "code",
   "execution_count": null,
   "metadata": {},
   "outputs": [],
   "source": [
    "\n",
    "# # Crear una figura para el gráfico\n",
    "# plt.figure()\n",
    "\n",
    "# # Graficar los resultados de IHH_resultado con un gráfico de barras\n",
    "# df.plot(kind='line', marker='o')\n",
    "\n",
    "# # Etiquetas y título del gráfico\n",
    "# plt.xlabel(\"Años\")\n",
    "# plt.ylabel(\"Cantidad de Sectores\")\n",
    "# plt.title(\"Resultados de IHH por Índice\")\n",
    "\n",
    "# # Mostrar el gráfico\n",
    "# plt.show()"
   ]
  }
 ],
 "metadata": {
  "kernelspec": {
   "display_name": "env",
   "language": "python",
   "name": "python3"
  },
  "language_info": {
   "codemirror_mode": {
    "name": "ipython",
    "version": 3
   },
   "file_extension": ".py",
   "mimetype": "text/x-python",
   "name": "python",
   "nbconvert_exporter": "python",
   "pygments_lexer": "ipython3",
   "version": "3.7.9"
  },
  "orig_nbformat": 4
 },
 "nbformat": 4,
 "nbformat_minor": 2
}
