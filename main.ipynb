{
 "cells": [
  {
   "cell_type": "code",
   "execution_count": null,
   "metadata": {},
   "outputs": [
    {
     "ename": "",
     "evalue": "",
     "output_type": "error",
     "traceback": [
      "\u001b[1;31mThe kernel failed to start as the Python Environment 'env' is no longer available. Consider selecting another kernel or refreshing the list of Python Environments."
     ]
    }
   ],
   "source": [
    "import pandas as pd     \n",
    "import numpy as np \n",
    "import glob as glob\n",
    "\n",
    "Base=[]\n",
    "csv_files = glob.glob('Data/*.csv')\n",
    "\n",
    "for filename in csv_files:\n",
    "    if filename == \"Data\\\\EAM_2020.csv\":\n",
    "        print(\"ok\")\n",
    "        data = pd.read_csv(filename,sep=\",\")   \n",
    "    else:\n",
    "        data = pd.read_csv(filename,sep=\";\")\n",
    "      \n",
    "    Base.append(data)"
   ]
  },
  {
   "cell_type": "code",
   "execution_count": null,
   "metadata": {},
   "outputs": [
    {
     "ename": "",
     "evalue": "",
     "output_type": "error",
     "traceback": [
      "\u001b[1;31mThe kernel failed to start as the Python Environment 'env' is no longer available. Consider selecting another kernel or refreshing the list of Python Environments."
     ]
    }
   ],
   "source": [
    "EAM08,EAM09,EAM10,EAM11,EAM12,EAM13,EAM14,EAM15,EAM16,EAM17,EAM18,EAM19,EAM20 = Base\n",
    "#Assign each dataframe a variable of the \"Base\"\n",
    "Data_Merge = [EAM08,EAM09,EAM10,EAM11,EAM12,EAM13,EAM14,EAM15,EAM16,EAM17,EAM18,EAM19,EAM20]\n",
    "#Create a list of the dataframe\n",
    "\n",
    "EAM08_G,EAM09_G,EAM10_G,EAM11_G,EAM12_G,EAM13_G,EAM14_G, \\\n",
    "            EAM15_G,EAM16_G,EAM17_G,EAM18_G,EAM19_G,EAM20_G=\\\n",
    "                0,0,0,0,0,0,0,0,0,0,0,0,0\n",
    "\n",
    "Data_Gruop = [EAM08_G,EAM09_G,EAM10_G,EAM11_G,EAM12_G,EAM13_G,EAM14_G, \\\n",
    "            EAM15_G,EAM16_G,EAM17_G,EAM18_G,EAM19_G,EAM20_G]"
   ]
  },
  {
   "cell_type": "code",
   "execution_count": null,
   "metadata": {},
   "outputs": [
    {
     "ename": "",
     "evalue": "",
     "output_type": "error",
     "traceback": [
      "\u001b[1;31mThe kernel failed to start as the Python Environment 'env' is no longer available. Consider selecting another kernel or refreshing the list of Python Environments."
     ]
    }
   ],
   "source": [
    "def change_name(Data_Merge, Number, change):\n",
    "    for df in Data_Merge:\n",
    "        if len(df.columns) > Number: #Verificar si el dataframe tiene al menos 4 columnas\n",
    "            df.columns.values[Number] = change #Me cambia el name de el label \n",
    "\n",
    "    return Data_Merge"
   ]
  },
  {
   "cell_type": "code",
   "execution_count": null,
   "metadata": {},
   "outputs": [
    {
     "ename": "",
     "evalue": "",
     "output_type": "error",
     "traceback": [
      "\u001b[1;31mThe kernel failed to start as the Python Environment 'env' is no longer available. Consider selecting another kernel or refreshing the list of Python Environments."
     ]
    }
   ],
   "source": [
    "#Función para saber si una columna esta presenta en un dataframe\n",
    "def Exis(Data_Merge,item): \n",
    "    columna_presente = True\n",
    "    for df in Data_Merge:\n",
    "        if item not in df.columns:\n",
    "            columna_resente = False\n",
    "    return columna_presente"
   ]
  },
  {
   "cell_type": "code",
   "execution_count": null,
   "metadata": {},
   "outputs": [
    {
     "ename": "",
     "evalue": "",
     "output_type": "error",
     "traceback": [
      "\u001b[1;31mThe kernel failed to start as the Python Environment 'env' is no longer available. Consider selecting another kernel or refreshing the list of Python Environments."
     ]
    }
   ],
   "source": [
    "#Función para saber si existen datos faltantes en la columna\n",
    "def exis_colum(Data_Merge,colum):\n",
    "    missing_col=0\n",
    "    for i in Data_Merge:\n",
    "        missing_col += i[colum].isnull().sum()\n",
    "    return missing_col"
   ]
  },
  {
   "cell_type": "code",
   "execution_count": null,
   "metadata": {},
   "outputs": [
    {
     "ename": "",
     "evalue": "",
     "output_type": "error",
     "traceback": [
      "\u001b[1;31mThe kernel failed to start as the Python Environment 'env' is no longer available. Consider selecting another kernel or refreshing the list of Python Environments."
     ]
    }
   ],
   "source": [
    "#Función para ordenar, por una columna\n",
    "def Sort(Column,Data_Merge):\n",
    "    for i, d in enumerate(Data_Merge):\n",
    "        sorted_df = d.sort_values(by=Column)\n",
    "        Data_Merge[i] = sorted_df \n",
    "    return Data_Merge"
   ]
  },
  {
   "cell_type": "code",
   "execution_count": null,
   "metadata": {},
   "outputs": [
    {
     "ename": "",
     "evalue": "",
     "output_type": "error",
     "traceback": [
      "\u001b[1;31mThe kernel failed to start as the Python Environment 'env' is no longer available. Consider selecting another kernel or refreshing the list of Python Environments."
     ]
    }
   ],
   "source": [
    "def Sum_Var(Column, SUM, UBAC, Data_Gruop, Data_Merge):\n",
    "    for i, df in enumerate(Data_Gruop):\n",
    "        total = 0\n",
    "        for index in df.index:\n",
    "            total = Data_Merge[i][Data_Merge[i][Column] == index][SUM].sum()\n",
    "            df.loc[index, UBAC] = total\n",
    "    return Data_Gruop"
   ]
  },
  {
   "cell_type": "code",
   "execution_count": null,
   "metadata": {},
   "outputs": [
    {
     "ename": "",
     "evalue": "",
     "output_type": "error",
     "traceback": [
      "\u001b[1;31mThe kernel failed to start as the Python Environment 'env' is no longer available. Consider selecting another kernel or refreshing the list of Python Environments."
     ]
    }
   ],
   "source": [
    "Data_Merge = change_name(Data_Merge,3,\"CIIU\")"
   ]
  },
  {
   "cell_type": "code",
   "execution_count": null,
   "metadata": {},
   "outputs": [
    {
     "ename": "",
     "evalue": "",
     "output_type": "error",
     "traceback": [
      "\u001b[1;31mThe kernel failed to start as the Python Environment 'env' is no longer available. Consider selecting another kernel or refreshing the list of Python Environments."
     ]
    }
   ],
   "source": [
    "Exis(Data_Merge,\"CIIU\")\n",
    "Exis(Data_Merge,\"VALORVEN\") #Identification for VALORVEN if there is in each dataframe of the model"
   ]
  },
  {
   "cell_type": "code",
   "execution_count": null,
   "metadata": {},
   "outputs": [
    {
     "ename": "",
     "evalue": "",
     "output_type": "error",
     "traceback": [
      "\u001b[1;31mThe kernel failed to start as the Python Environment 'env' is no longer available. Consider selecting another kernel or refreshing the list of Python Environments."
     ]
    }
   ],
   "source": [
    "exis_colum(Data_Merge,\"VALORVEN\")\n",
    "exis_colum(Data_Merge,\"CIIU\")"
   ]
  },
  {
   "cell_type": "code",
   "execution_count": null,
   "metadata": {},
   "outputs": [
    {
     "ename": "",
     "evalue": "",
     "output_type": "error",
     "traceback": [
      "\u001b[1;31mThe kernel failed to start as the Python Environment 'env' is no longer available. Consider selecting another kernel or refreshing the list of Python Environments."
     ]
    }
   ],
   "source": [
    "Data_Merge=Sort(\"CIIU\",Data_Merge)"
   ]
  },
  {
   "cell_type": "code",
   "execution_count": null,
   "metadata": {},
   "outputs": [
    {
     "ename": "",
     "evalue": "",
     "output_type": "error",
     "traceback": [
      "\u001b[1;31mThe kernel failed to start as the Python Environment 'env' is no longer available. Consider selecting another kernel or refreshing the list of Python Environments."
     ]
    }
   ],
   "source": [
    "#Para crear un data frame agrupado de una base de datos\n",
    "for i in range (len(Data_Merge)):\n",
    "    index=Data_Merge[i][\"CIIU\"].drop_duplicates().sort_values()\n",
    "    Data_Gruop[i]= pd.DataFrame(index=index,columns=[\"SUM-VALORVEN\",\"SUM-WAGE\"])\n"
   ]
  },
  {
   "cell_type": "code",
   "execution_count": null,
   "metadata": {},
   "outputs": [
    {
     "ename": "",
     "evalue": "",
     "output_type": "error",
     "traceback": [
      "\u001b[1;31mThe kernel failed to start as the Python Environment 'env' is no longer available. Consider selecting another kernel or refreshing the list of Python Environments."
     ]
    }
   ],
   "source": [
    "Data_Gruop=Sum_Var(\"CIIU\",\"VALORVEN\",\"SUM-VALORVEN\",Data_Gruop,Data_Merge,)\n"
   ]
  },
  {
   "cell_type": "code",
   "execution_count": null,
   "metadata": {},
   "outputs": [
    {
     "ename": "",
     "evalue": "",
     "output_type": "error",
     "traceback": [
      "\u001b[1;31mThe kernel failed to start as the Python Environment 'env' is no longer available. Consider selecting another kernel or refreshing the list of Python Environments."
     ]
    }
   ],
   "source": [
    "Data_Gruop[0]"
   ]
  }
 ],
 "metadata": {
  "kernelspec": {
   "display_name": "env",
   "language": "python",
   "name": "python3"
  },
  "language_info": {
   "codemirror_mode": {
    "name": "ipython",
    "version": 3
   },
   "file_extension": ".py",
   "mimetype": "text/x-python",
   "name": "python",
   "nbconvert_exporter": "python",
   "pygments_lexer": "ipython3",
   "version": "3.7.9"
  },
  "orig_nbformat": 4
 },
 "nbformat": 4,
 "nbformat_minor": 2
}
