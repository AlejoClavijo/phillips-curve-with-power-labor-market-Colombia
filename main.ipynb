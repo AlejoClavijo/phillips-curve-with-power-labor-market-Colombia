{
 "cells": [
  {
   "cell_type": "code",
   "execution_count": 96,
   "metadata": {},
   "outputs": [],
   "source": [
    "import pandas as pd     \n",
    "import numpy as np \n",
    "import glob as glob\n",
    "#Importamos las librerias"
   ]
  },
  {
   "cell_type": "code",
   "execution_count": 97,
   "metadata": {},
   "outputs": [],
   "source": [
    "Base=[]\n",
    "csv_files = glob.glob('Data/*.csv')\n",
    "for filename in csv_files:\n",
    "    data = pd.read_csv(filename,sep=\";\")\n",
    "    Base.append(data)"
   ]
  },
  {
   "cell_type": "code",
   "execution_count": 98,
   "metadata": {},
   "outputs": [],
   "source": [
    "EAM08,EAM09,EMA10,EMA11,EMA12,EMA13,EMA14,EMA15,EMA16,EMA17,EMA18,EMA19,EMA20 = Base\n",
    "Data_Merge= [EAM08,EAM09,EMA10,EMA11,EMA12,EMA13,EMA14,EMA15,EMA16,EMA17,EMA18,EMA19,EMA20]\n",
    "#Asignamos cada dataframe a una variable"
   ]
  },
  {
   "cell_type": "code",
   "execution_count": 99,
   "metadata": {},
   "outputs": [
    {
     "name": "stdout",
     "output_type": "stream",
     "text": [
      "0\n"
     ]
    }
   ],
   "source": [
    "#Verificación de datos nulos tiempo de demora 2m 21.4s\n",
    "\n",
    "for i in Data_Merge:\n",
    "        for col in i.columns:\n",
    "            missing += i[col].isna().sum()\n",
    "        for row in i.index:\n",
    "            missing += i.loc[row,:].isna().sum()\n",
    "\n",
    "print(missing)\n"
   ]
  }
 ],
 "metadata": {
  "kernelspec": {
   "display_name": "env",
   "language": "python",
   "name": "python3"
  },
  "language_info": {
   "codemirror_mode": {
    "name": "ipython",
    "version": 3
   },
   "file_extension": ".py",
   "mimetype": "text/x-python",
   "name": "python",
   "nbconvert_exporter": "python",
   "pygments_lexer": "ipython3",
   "version": "3.7.9"
  },
  "orig_nbformat": 4
 },
 "nbformat": 4,
 "nbformat_minor": 2
}
