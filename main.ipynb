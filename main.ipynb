{
 "cells": [
  {
   "cell_type": "code",
   "execution_count": 13,
   "metadata": {},
   "outputs": [
    {
     "name": "stdout",
     "output_type": "stream",
     "text": [
      "ok\n"
     ]
    }
   ],
   "source": [
    "import pandas as pd     \n",
    "import numpy as np \n",
    "import glob as glob\n",
    "\n",
    "\n",
    "Base=[]\n",
    "csv_files = glob.glob('Data/*.csv')\n",
    "\n",
    "for filename in csv_files:\n",
    "    if filename == \"Data\\\\EAM_2020.csv\":\n",
    "        print(\"ok\")\n",
    "        data = pd.read_csv(filename,sep=\",\")\n",
    "        \n",
    "    else:\n",
    "        data = pd.read_csv(filename,sep=\";\")\n",
    "      \n",
    "    Base.append(data)"
   ]
  },
  {
   "cell_type": "code",
   "execution_count": 14,
   "metadata": {},
   "outputs": [],
   "source": [
    "EAM08,EAM09,EAM10,EAM11,EAM12,EAM13,EAM14,EAM15,EAM16,EAM17,EAM18,EAM19,EAM20 = Base\n",
    "Data_Merge= [EAM08,EAM09,EAM10,EAM11,EAM12,EAM13,EAM14,EAM15,EAM16,EAM17,EAM18,EAM19,EAM20]\n",
    "\n",
    "#Assign each dataframe a variable "
   ]
  },
  {
   "cell_type": "code",
   "execution_count": 15,
   "metadata": {},
   "outputs": [
    {
     "data": {
      "text/html": [
       "<div>\n",
       "<style scoped>\n",
       "    .dataframe tbody tr th:only-of-type {\n",
       "        vertical-align: middle;\n",
       "    }\n",
       "\n",
       "    .dataframe tbody tr th {\n",
       "        vertical-align: top;\n",
       "    }\n",
       "\n",
       "    .dataframe thead th {\n",
       "        text-align: right;\n",
       "    }\n",
       "</style>\n",
       "<table border=\"1\" class=\"dataframe\">\n",
       "  <thead>\n",
       "    <tr style=\"text-align: right;\">\n",
       "      <th></th>\n",
       "      <th>nordemp</th>\n",
       "      <th>nordest</th>\n",
       "      <th>dpto</th>\n",
       "      <th>ciiu4</th>\n",
       "      <th>periodo</th>\n",
       "      <th>c4r1c1n</th>\n",
       "      <th>c4r1c2n</th>\n",
       "      <th>c4r2c1e</th>\n",
       "      <th>c4r2c2e</th>\n",
       "      <th>c4r1c1</th>\n",
       "      <th>...</th>\n",
       "      <th>PERSOCU</th>\n",
       "      <th>PERSOESC</th>\n",
       "      <th>PPERYTEM</th>\n",
       "      <th>PERAPREN</th>\n",
       "      <th>SALAPREN</th>\n",
       "      <th>VALAGRI</th>\n",
       "      <th>VALORCOM</th>\n",
       "      <th>VALORCX</th>\n",
       "      <th>PORCVT</th>\n",
       "      <th>VALORVEN</th>\n",
       "    </tr>\n",
       "  </thead>\n",
       "  <tbody>\n",
       "    <tr>\n",
       "      <th>0</th>\n",
       "      <td>141299</td>\n",
       "      <td>140327</td>\n",
       "      <td>19</td>\n",
       "      <td>2395</td>\n",
       "      <td>2020</td>\n",
       "      <td>0</td>\n",
       "      <td>0</td>\n",
       "      <td>0</td>\n",
       "      <td>0</td>\n",
       "      <td>0</td>\n",
       "      <td>...</td>\n",
       "      <td>20</td>\n",
       "      <td>20</td>\n",
       "      <td>20</td>\n",
       "      <td>1</td>\n",
       "      <td>9451.0</td>\n",
       "      <td>3179253</td>\n",
       "      <td>7579978</td>\n",
       "      <td>0</td>\n",
       "      <td>0</td>\n",
       "      <td>10408154</td>\n",
       "    </tr>\n",
       "    <tr>\n",
       "      <th>1</th>\n",
       "      <td>141302</td>\n",
       "      <td>140333</td>\n",
       "      <td>76</td>\n",
       "      <td>3290</td>\n",
       "      <td>2020</td>\n",
       "      <td>0</td>\n",
       "      <td>0</td>\n",
       "      <td>0</td>\n",
       "      <td>0</td>\n",
       "      <td>0</td>\n",
       "      <td>...</td>\n",
       "      <td>1</td>\n",
       "      <td>1</td>\n",
       "      <td>1</td>\n",
       "      <td>0</td>\n",
       "      <td>0.0</td>\n",
       "      <td>14965</td>\n",
       "      <td>103639</td>\n",
       "      <td>0</td>\n",
       "      <td>0</td>\n",
       "      <td>119213</td>\n",
       "    </tr>\n",
       "    <tr>\n",
       "      <th>2</th>\n",
       "      <td>141305</td>\n",
       "      <td>140336</td>\n",
       "      <td>5</td>\n",
       "      <td>2920</td>\n",
       "      <td>2020</td>\n",
       "      <td>0</td>\n",
       "      <td>0</td>\n",
       "      <td>0</td>\n",
       "      <td>0</td>\n",
       "      <td>0</td>\n",
       "      <td>...</td>\n",
       "      <td>5</td>\n",
       "      <td>5</td>\n",
       "      <td>5</td>\n",
       "      <td>0</td>\n",
       "      <td>0.0</td>\n",
       "      <td>74296</td>\n",
       "      <td>118900</td>\n",
       "      <td>0</td>\n",
       "      <td>0</td>\n",
       "      <td>276000</td>\n",
       "    </tr>\n",
       "    <tr>\n",
       "      <th>3</th>\n",
       "      <td>141308</td>\n",
       "      <td>140339</td>\n",
       "      <td>13</td>\n",
       "      <td>3290</td>\n",
       "      <td>2020</td>\n",
       "      <td>0</td>\n",
       "      <td>0</td>\n",
       "      <td>0</td>\n",
       "      <td>0</td>\n",
       "      <td>0</td>\n",
       "      <td>...</td>\n",
       "      <td>2</td>\n",
       "      <td>3</td>\n",
       "      <td>2</td>\n",
       "      <td>0</td>\n",
       "      <td>0.0</td>\n",
       "      <td>296942</td>\n",
       "      <td>201450</td>\n",
       "      <td>0</td>\n",
       "      <td>0</td>\n",
       "      <td>540842</td>\n",
       "    </tr>\n",
       "    <tr>\n",
       "      <th>4</th>\n",
       "      <td>141309</td>\n",
       "      <td>140340</td>\n",
       "      <td>8</td>\n",
       "      <td>3290</td>\n",
       "      <td>2020</td>\n",
       "      <td>0</td>\n",
       "      <td>0</td>\n",
       "      <td>0</td>\n",
       "      <td>0</td>\n",
       "      <td>0</td>\n",
       "      <td>...</td>\n",
       "      <td>80</td>\n",
       "      <td>80</td>\n",
       "      <td>80</td>\n",
       "      <td>1</td>\n",
       "      <td>2516.0</td>\n",
       "      <td>10741772</td>\n",
       "      <td>6599316</td>\n",
       "      <td>0</td>\n",
       "      <td>0</td>\n",
       "      <td>16374796</td>\n",
       "    </tr>\n",
       "  </tbody>\n",
       "</table>\n",
       "<p>5 rows × 386 columns</p>\n",
       "</div>"
      ],
      "text/plain": [
       "   nordemp  nordest  dpto  ciiu4  periodo  c4r1c1n  c4r1c2n  c4r2c1e  c4r2c2e  \\\n",
       "0   141299   140327    19   2395     2020        0        0        0        0   \n",
       "1   141302   140333    76   3290     2020        0        0        0        0   \n",
       "2   141305   140336     5   2920     2020        0        0        0        0   \n",
       "3   141308   140339    13   3290     2020        0        0        0        0   \n",
       "4   141309   140340     8   3290     2020        0        0        0        0   \n",
       "\n",
       "   c4r1c1  ...  PERSOCU  PERSOESC  PPERYTEM  PERAPREN  SALAPREN   VALAGRI  \\\n",
       "0       0  ...       20        20        20         1    9451.0   3179253   \n",
       "1       0  ...        1         1         1         0       0.0     14965   \n",
       "2       0  ...        5         5         5         0       0.0     74296   \n",
       "3       0  ...        2         3         2         0       0.0    296942   \n",
       "4       0  ...       80        80        80         1    2516.0  10741772   \n",
       "\n",
       "   VALORCOM  VALORCX  PORCVT  VALORVEN  \n",
       "0   7579978        0       0  10408154  \n",
       "1    103639        0       0    119213  \n",
       "2    118900        0       0    276000  \n",
       "3    201450        0       0    540842  \n",
       "4   6599316        0       0  16374796  \n",
       "\n",
       "[5 rows x 386 columns]"
      ]
     },
     "execution_count": 15,
     "metadata": {},
     "output_type": "execute_result"
    }
   ],
   "source": [
    "EAM20.head()"
   ]
  },
  {
   "attachments": {},
   "cell_type": "markdown",
   "metadata": {},
   "source": [
    "We star to studing of the datas\n",
    "\n",
    "1. There are of null datas \n",
    "2. Correction of the difference forms of recolection and metodologys for each type of variable for each year\n",
    "3. Interpretation of the variable for each type of the information that we get and data type \n"
   ]
  },
  {
   "cell_type": "code",
   "execution_count": 16,
   "metadata": {},
   "outputs": [
    {
     "name": "stdout",
     "output_type": "stream",
     "text": [
      "822\n"
     ]
    }
   ],
   "source": [
    "#Data null, time of the wait:  2m 21.4s\n",
    "missing=0\n",
    "for i in Data_Merge:\n",
    "        for col in i.columns:\n",
    "            missing += i[col].isna().sum()\n",
    "        for row in i.index:\n",
    "            missing += i.loc[row,:].isna().sum()\n",
    "\n",
    "print(missing)\n"
   ]
  },
  {
   "cell_type": "code",
   "execution_count": 17,
   "metadata": {},
   "outputs": [],
   "source": [
    "#Cambiar el CIIU beacuse there differents labales in each dataframe\n",
    "\n",
    "column_mapping = {\"CIIU3\": \"CIIU\", \"ciiu3\": \"CIIU\", \"ciiu4\": \"CIIU\", \"ciiu_4\": \"CIIU\", \"CIIU4\": \"CIIU\"}\n",
    "\n",
    "for df in Data_Merge:\n",
    "    df.rename(columns=column_mapping, inplace=True)"
   ]
  },
  {
   "cell_type": "code",
   "execution_count": 19,
   "metadata": {},
   "outputs": [
    {
     "name": "stdout",
     "output_type": "stream",
     "text": [
      "La columna CIIU3 está presente en todos los DataFrames.\n"
     ]
    }
   ],
   "source": [
    "columna_ciiu_presente = True\n",
    "for i, df in enumerate(Data_Merge):\n",
    "    if \"CIIU\" not in df.columns:\n",
    "        columna_ciiu_presente = False\n",
    "        print(\"La columna CIIU no está presente en el DataFrame\", i)\n",
    "\n",
    "if columna_ciiu_presente:\n",
    "    print(\"La columna CIIU está presente en todos los DataFrames.\")"
   ]
  },
  {
   "cell_type": "code",
   "execution_count": 22,
   "metadata": {},
   "outputs": [
    {
     "name": "stdout",
     "output_type": "stream",
     "text": [
      "1810    757\n",
      "3699    566\n",
      "1551    440\n",
      "2529    420\n",
      "2220    285\n",
      "       ... \n",
      "1600      3\n",
      "2511      3\n",
      "2430      3\n",
      "3230      3\n",
      "1542      3\n",
      "Name: CIIU, Length: 126, dtype: int64\n"
     ]
    }
   ],
   "source": [
    "conteo = EAM08[\"CIIU\"].value_counts()\n",
    "\n",
    "\n",
    "\n"
   ]
  }
 ],
 "metadata": {
  "kernelspec": {
   "display_name": "env",
   "language": "python",
   "name": "python3"
  },
  "language_info": {
   "codemirror_mode": {
    "name": "ipython",
    "version": 3
   },
   "file_extension": ".py",
   "mimetype": "text/x-python",
   "name": "python",
   "nbconvert_exporter": "python",
   "pygments_lexer": "ipython3",
   "version": "3.7.9"
  },
  "orig_nbformat": 4
 },
 "nbformat": 4,
 "nbformat_minor": 2
}
