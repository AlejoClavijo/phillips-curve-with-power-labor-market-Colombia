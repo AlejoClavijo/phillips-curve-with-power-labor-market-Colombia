{
 "cells": [
  {
   "cell_type": "code",
   "execution_count": 1,
   "metadata": {},
   "outputs": [
    {
     "name": "stderr",
     "output_type": "stream",
     "text": [
      "c:\\Users\\User\\Documents\\TrabajoGrado\\env\\lib\\site-packages\\IPython\\core\\interactiveshell.py:3553: DtypeWarning: Columns (299) have mixed types.Specify dtype option on import or set low_memory=False.\n",
      "  exec(code_obj, self.user_global_ns, self.user_ns)\n",
      "c:\\Users\\User\\Documents\\TrabajoGrado\\env\\lib\\site-packages\\IPython\\core\\interactiveshell.py:3553: DtypeWarning: Columns (182,183,184,185,186,187,188,189,190,191,302) have mixed types.Specify dtype option on import or set low_memory=False.\n",
      "  exec(code_obj, self.user_global_ns, self.user_ns)\n",
      "c:\\Users\\User\\Documents\\TrabajoGrado\\env\\lib\\site-packages\\IPython\\core\\interactiveshell.py:3553: DtypeWarning: Columns (182,183,184,185,186,187,188,189,190,191,192,193,194,195,196,197,198,199,200,201,202,203,204,205,206,207,208,209,210,211,212,213,214,215,216,217,218,219,220,221,222,223,224,225,226,227,228,229,230,231,232,233,234,235,236,237,238,239,240,241,242,243,244,245,246,247,248,249,250,251,252,253,254,255,256,257,258,259,260,261,262,263,264,265,266,267,268,269,270,271,272,273,274,275,276,277,278,279,280,281,282,283,284,285,286,287,288,289,290,291,292,293,294,295,296,297,298,299,300,301,302,376) have mixed types.Specify dtype option on import or set low_memory=False.\n",
      "  exec(code_obj, self.user_global_ns, self.user_ns)\n",
      "c:\\Users\\User\\Documents\\TrabajoGrado\\env\\lib\\site-packages\\IPython\\core\\interactiveshell.py:3553: DtypeWarning: Columns (303,304,305,306,307,308,309,310,311,312,313,314,315,316,317,318,319,320,321,322,323,324,325,326,327,328,329,330,331,332,333,334,335,336,337,338,339,340,341,342,343,344,345,346,347,348,349,350,351,352,353,354,355,356,357,358,359,360,361,362,363) have mixed types.Specify dtype option on import or set low_memory=False.\n",
      "  exec(code_obj, self.user_global_ns, self.user_ns)\n",
      "c:\\Users\\User\\Documents\\TrabajoGrado\\env\\lib\\site-packages\\IPython\\core\\interactiveshell.py:3553: DtypeWarning: Columns (302,303,304,305,306,307,308,309,310,311,312,313,314,315,316,317,318,319,320,321,322,323,324,325,326,327,328,329,330,331,332,333,334,335,336,337,338,339,340,341,342,343,344,345,346,347,348,349,350,351,352,353,354,355,356,357,358,359,360,361,362,363) have mixed types.Specify dtype option on import or set low_memory=False.\n",
      "  exec(code_obj, self.user_global_ns, self.user_ns)\n",
      "c:\\Users\\User\\Documents\\TrabajoGrado\\env\\lib\\site-packages\\IPython\\core\\interactiveshell.py:3553: DtypeWarning: Columns (302) have mixed types.Specify dtype option on import or set low_memory=False.\n",
      "  exec(code_obj, self.user_global_ns, self.user_ns)\n"
     ]
    },
    {
     "name": "stdout",
     "output_type": "stream",
     "text": [
      "ok\n"
     ]
    }
   ],
   "source": [
    "import pandas as pd     \n",
    "import numpy as np \n",
    "import glob as glob\n",
    "\n",
    "Base=[]\n",
    "csv_files = glob.glob('Data_EAM&IPC/*.csv')\n",
    "\n",
    "for filename in csv_files:\n",
    "    if filename == \"Data_EAM&IPC\\\\EAM_2020.csv\":\n",
    "        print(\"ok\")\n",
    "        data = pd.read_csv(filename,sep=\",\")   \n",
    "    else:\n",
    "        data = pd.read_csv(filename,sep=\";\")\n",
    "      \n",
    "    Base.append(data)\n"
   ]
  },
  {
   "cell_type": "code",
   "execution_count": 2,
   "metadata": {},
   "outputs": [],
   "source": [
    "EAM08,EAM09,EAM10,EAM11,EAM12,EAM13,EAM14,EAM15,EAM16,EAM17,EAM18,EAM19,EAM20 = Base\n",
    "#Assign each dataframe a variable of the \"Base\"\n",
    "Data_Merge = [EAM08,EAM09,EAM10,EAM11,EAM12,EAM13,EAM14,EAM15,EAM16,EAM17,EAM18,EAM19,EAM20]\n",
    "#Create a list of the dataframe\n",
    "EAM08_G,EAM09_G,EAM10_G,EAM11_G,EAM12_G,EAM13_G,EAM14_G, \\\n",
    "            EAM15_G,EAM16_G,EAM17_G,EAM18_G,EAM19_G,EAM20_G=\\\n",
    "                0,0,0,0,0,0,0,0,0,0,0,0,0\n",
    "Data_Gruop = [EAM08_G,EAM09_G,EAM10_G,EAM11_G,EAM12_G,EAM13_G,EAM14_G, \\\n",
    "            EAM15_G,EAM16_G,EAM17_G,EAM18_G,EAM19_G,EAM20_G]"
   ]
  },
  {
   "cell_type": "code",
   "execution_count": 3,
   "metadata": {},
   "outputs": [],
   "source": [
    "#PARA CAMBIAR UN LABEL EN UNA UBICACIÓN ESPECIFICA NO ESTANDARIZADO\n",
    "def change_name(Data_Merge, Number, change):\n",
    "    for df in Data_Merge:\n",
    "        if len(df.columns) > Number: #Verificar si el dataframe tiene al menos 4 columnas\n",
    "            df.columns.values[Number] = change #Me cambia el name de el label \n",
    "    return Data_Merge"
   ]
  },
  {
   "cell_type": "code",
   "execution_count": 4,
   "metadata": {},
   "outputs": [],
   "source": [
    "#Para estandairzar los labels\n",
    "def change_label(Data_Merge):\n",
    "    for df in Data_Merge:\n",
    "        columnas = df.columns.tolist() #Crea una lista de columnas\n",
    "        nuevas_columnas = [columna.upper() for columna in columnas] # coloca en mayusculas cada columna de lista\n",
    "        df.columns = nuevas_columnas #Asigna el nuevo nombre\n",
    "    return Data_Merge"
   ]
  },
  {
   "cell_type": "code",
   "execution_count": 5,
   "metadata": {},
   "outputs": [],
   "source": [
    "#Función para saber si una columna esta presente en un dataframe\n",
    "def Exis(Data_Merge, item):\n",
    "    for i, df in enumerate(Data_Merge):\n",
    "        if item not in df.columns:\n",
    "            columna_ausente = True\n",
    "            print(f\"El item no está presente en el DataFrame {i}.\")\n",
    "        else:\n",
    "            columna_ausente = False\n",
    "            print(f\"El item  está presente en el DataFrame {i}.\")\n",
    "    return columna_ausente"
   ]
  },
  {
   "cell_type": "code",
   "execution_count": 6,
   "metadata": {},
   "outputs": [],
   "source": [
    "#Función para saber si existen datos faltantes en la columna\n",
    "def exis_colum(Data_Merge,colum):\n",
    "    missing_col=0\n",
    "    for i in Data_Merge:\n",
    "        missing_col += i[colum].isnull().sum()\n",
    "    return missing_col"
   ]
  },
  {
   "cell_type": "code",
   "execution_count": 7,
   "metadata": {},
   "outputs": [],
   "source": [
    "#Función para ordenar, por una columna \n",
    "def Sort(Column,Data_Merge):\n",
    "    for i, d in enumerate(Data_Merge):\n",
    "        sorted_df = d.sort_values(by=Column)\n",
    "        Data_Merge[i] = sorted_df \n",
    "    return Data_Merge"
   ]
  },
  {
   "cell_type": "code",
   "execution_count": 8,
   "metadata": {},
   "outputs": [],
   "source": [
    "def calculate_avg_or_sum(Column, SUMATION, UBACATION, Data_Gruop, Data_Merge, operation):\n",
    "    for i, df in enumerate(Data_Gruop):\n",
    "        for index in df.index:\n",
    "            if index in Data_Merge[i][Column].unique():\n",
    "                total = Data_Merge[i][Data_Merge[i][Column] == index][SUMATION]\n",
    "                if operation == 'mean':\n",
    "                    total=total.mean()\n",
    "                    df.loc[index, UBACATION] = total\n",
    "                elif operation == 'sum':\n",
    "                    total=total.sum()\n",
    "                    df.loc[index, UBACATION] = total\n",
    "                elif operation == 'count':\n",
    "                    total=total.value_counts()           \n",
    "                    df.loc[index, UBACATION] = int(total)           \n",
    "                elif operation == 'coe_sim':\n",
    "                    total=total.skew()  #Da como resultado el coeficiente de asimetria de fisher\n",
    "                    df.loc[index, UBACATION] = total\n",
    "                elif operation == \"med\":\n",
    "                    total=total.median()\n",
    "                    df.loc[index, UBACATION] = total\n",
    "                elif operation ==\"rango\":\n",
    "                    total = total.max() - total.min()\n",
    "                    df.loc[index, UBACATION] = total\n",
    "    return Data_Gruop"
   ]
  },
  {
   "cell_type": "code",
   "execution_count": 9,
   "metadata": {},
   "outputs": [],
   "source": [
    "def sum_of_rows(row,Colum1,Colum2):\n",
    "    return row[Colum1] + row[Colum2]"
   ]
  },
  {
   "cell_type": "code",
   "execution_count": 10,
   "metadata": {},
   "outputs": [],
   "source": [
    "def IHH(Column, Divisor, Numerator, Ubac, Data_Gruop, Data_Merge):\n",
    "  for i, df in enumerate(Data_Gruop):\n",
    "    for index in df.index:\n",
    "      if index in Data_Merge[i][Column].unique():               \n",
    "        Numerator = Data_Merge[i].set_index(Column)[Divisor]\n",
    "        Denominator = df[\"SUM-WORKERS\"]\n",
    "        Total = (Numerator / Denominator) * 100\n",
    "        Data_Merge[i].loc[Data_Merge[i][Column], Ubac] = Total\n",
    "  return Data_Merge"
   ]
  },
  {
   "cell_type": "code",
   "execution_count": 11,
   "metadata": {},
   "outputs": [],
   "source": [
    "Data_Merge = change_name(Data_Merge,3,\"CIIU\")"
   ]
  },
  {
   "cell_type": "code",
   "execution_count": 12,
   "metadata": {},
   "outputs": [],
   "source": [
    "Data_Merge = change_label(Data_Merge)"
   ]
  },
  {
   "cell_type": "code",
   "execution_count": 13,
   "metadata": {},
   "outputs": [
    {
     "data": {
      "text/plain": [
       "0"
      ]
     },
     "execution_count": 13,
     "metadata": {},
     "output_type": "execute_result"
    }
   ],
   "source": [
    "exis_colum(Data_Merge,\"CIIU\")\n",
    "exis_colum(Data_Merge,\"C4R4C9T\")\n",
    "exis_colum(Data_Merge,\"C4R4C10T\")"
   ]
  },
  {
   "cell_type": "code",
   "execution_count": 14,
   "metadata": {},
   "outputs": [],
   "source": [
    "Data_Merge=Sort(\"CIIU\",Data_Merge)"
   ]
  },
  {
   "cell_type": "code",
   "execution_count": 15,
   "metadata": {},
   "outputs": [],
   "source": [
    "#Para crear un data frame agrupado de una base de datos\n",
    "for i in range (len(Data_Merge)):\n",
    "    index=Data_Merge[i][\"CIIU\"].drop_duplicates().sort_values()\n",
    "    Data_Gruop[i]= pd.DataFrame(index=index,columns=[\"SUM-WORKERS_M\",\"SUM-WORKERS_F\",\"SUM-WORKERS\",\"MED-WAGE\",\"IHH\",\"Count_CIIU\",'Simetria',\"rango\"])\n"
   ]
  },
  {
   "cell_type": "code",
   "execution_count": 16,
   "metadata": {},
   "outputs": [],
   "source": [
    "Data_Gruop=calculate_avg_or_sum(\"CIIU\",\"C4R4C9T\",\"SUM-WORKERS_F\",Data_Gruop,Data_Merge,\"sum\")\n",
    "Data_Gruop=calculate_avg_or_sum(\"CIIU\",\"C4R4C10T\",\"SUM-WORKERS_M\",Data_Gruop,Data_Merge,\"sum\")\n",
    "Data_Gruop=calculate_avg_or_sum(\"CIIU\",\"C3R2C3\",\"MED-WAGE\",Data_Gruop,Data_Merge,\"med\")"
   ]
  },
  {
   "cell_type": "code",
   "execution_count": 17,
   "metadata": {},
   "outputs": [],
   "source": [
    "for df  in Data_Gruop:\n",
    "    df[\"SUM-WORKERS\"] = df.apply(lambda row: sum_of_rows(row,\"SUM-WORKERS_M\",\"SUM-WORKERS_F\"), axis=1)"
   ]
  },
  {
   "cell_type": "code",
   "execution_count": 18,
   "metadata": {},
   "outputs": [],
   "source": [
    "for df  in Data_Merge:\n",
    "    df[\"WORKERS\"] = df.apply(lambda row: sum_of_rows(row,\"C4R4C10T\",\"C4R4C9T\"), axis=1) #Sumar las filas\n",
    "    df[\"IHH_ONE\"] = None"
   ]
  },
  {
   "cell_type": "code",
   "execution_count": 20,
   "metadata": {},
   "outputs": [],
   "source": [
    "Data_Merge=IHH(\"CIIU\",\"WORKERS\",\"SUM-WORKERS\",\"IHH_ONE\",Data_Gruop,Data_Merge) #Aquí estoy sacando el ihh"
   ]
  },
  {
   "cell_type": "code",
   "execution_count": 21,
   "metadata": {},
   "outputs": [],
   "source": [
    "Data_Gruop=calculate_avg_or_sum(\"CIIU\",\"IHH_ONE\",\"IHH\",Data_Gruop,Data_Merge,\"sum\") ##Sumo el IHH individual"
   ]
  },
  {
   "cell_type": "code",
   "execution_count": 22,
   "metadata": {},
   "outputs": [],
   "source": [
    "Data_Gruop=calculate_avg_or_sum(\"CIIU\",\"CIIU\",\"Count_CIIU\",Data_Gruop,Data_Merge,\"count\")   ## Cuanto la cantidad de empresas que hay ´por CIIU "
   ]
  },
  {
   "cell_type": "code",
   "execution_count": 23,
   "metadata": {},
   "outputs": [],
   "source": [
    "Data_Gruop=calculate_avg_or_sum(\"CIIU\",\"C3R2C3\",\"Simetria\",Data_Gruop,Data_Merge,\"coe_sim\")  #Miro el coeficiente de simetria"
   ]
  },
  {
   "cell_type": "code",
   "execution_count": 24,
   "metadata": {},
   "outputs": [],
   "source": [
    "Data_Gruop=calculate_avg_or_sum(\"CIIU\",\"C3R2C3\",\"rango\",Data_Gruop,Data_Merge,\"rango\")"
   ]
  },
  {
   "cell_type": "code",
   "execution_count": 25,
   "metadata": {},
   "outputs": [],
   "source": [
    "for i, df in enumerate(Data_Gruop):\n",
    "    df[\"IHH_cuadrado\"] = df[\"IHH\"] ** 2\n",
    "\n",
    "    conditions = [\n",
    "        df[\"IHH_cuadrado\"] <= 1000,\n",
    "        (1000 <= df[\"IHH_cuadrado\"]) & (df[\"IHH_cuadrado\"] < 1800),\n",
    "        df[\"IHH_cuadrado\"] >= 1800\n",
    "    ]\n",
    "    values = [1, 2, 3]\n",
    "\n",
    "    df[\"IHH_resultado\"] = np.select(conditions, values, default=np.nan)\n",
    "\n",
    "    #Hay un problema y es que son 3 .-."
   ]
  },
  {
   "cell_type": "code",
   "execution_count": 26,
   "metadata": {},
   "outputs": [
    {
     "data": {
      "text/plain": [
       "0"
      ]
     },
     "execution_count": 26,
     "metadata": {},
     "output_type": "execute_result"
    }
   ],
   "source": [
    "exis_colum(Data_Gruop,\"IHH\")"
   ]
  },
  {
   "cell_type": "code",
   "execution_count": 28,
   "metadata": {},
   "outputs": [],
   "source": [
    "#Promedios Ponderados  -- para calcular \n",
    "#Para el salario se saca la mediana pagada por cada sector \n",
    "# Para saber si el promedio es un buen estadistico se realiza un examen de simetria\n",
    "#Datos de estilizados -- Indicador: "
   ]
  },
  {
   "cell_type": "markdown",
   "metadata": {},
   "source": [
    "Se comienza a trabajar con los datos sacados por hechos estilizados"
   ]
  },
  {
   "cell_type": "markdown",
   "metadata": {},
   "source": [
    "Se imprime una grafica de barras del IHH por sector para todos los años"
   ]
  },
  {
   "cell_type": "code",
   "execution_count": 29,
   "metadata": {},
   "outputs": [],
   "source": [
    "def count_IHH(Grupo_datos, df,SUM):\n",
    "    for i, data_frame in enumerate(Grupo_datos):\n",
    "        conteo = data_frame[SUM].value_counts()\n",
    "        for valor in conteo.index:\n",
    "            conteo_valor = conteo.loc[valor]\n",
    "            df.at[df.index[i], valor] = conteo_valor\n",
    "    return df"
   ]
  },
  {
   "cell_type": "code",
   "execution_count": 30,
   "metadata": {},
   "outputs": [],
   "source": [
    "def create_index(Data_Gruop):\n",
    "    Index=[]\n",
    "    for i in range(len(Data_Gruop)):\n",
    "        w = 2008 + i \n",
    "        Index.append(w)\n",
    "    return Index"
   ]
  },
  {
   "cell_type": "code",
   "execution_count": 31,
   "metadata": {},
   "outputs": [
    {
     "data": {
      "text/html": [
       "<div>\n",
       "<style scoped>\n",
       "    .dataframe tbody tr th:only-of-type {\n",
       "        vertical-align: middle;\n",
       "    }\n",
       "\n",
       "    .dataframe tbody tr th {\n",
       "        vertical-align: top;\n",
       "    }\n",
       "\n",
       "    .dataframe thead th {\n",
       "        text-align: right;\n",
       "    }\n",
       "</style>\n",
       "<table border=\"1\" class=\"dataframe\">\n",
       "  <thead>\n",
       "    <tr style=\"text-align: right;\">\n",
       "      <th></th>\n",
       "      <th>1</th>\n",
       "      <th>2</th>\n",
       "      <th>3</th>\n",
       "    </tr>\n",
       "  </thead>\n",
       "  <tbody>\n",
       "    <tr>\n",
       "      <th>2008</th>\n",
       "      <td>NaN</td>\n",
       "      <td>NaN</td>\n",
       "      <td>NaN</td>\n",
       "    </tr>\n",
       "    <tr>\n",
       "      <th>2009</th>\n",
       "      <td>NaN</td>\n",
       "      <td>NaN</td>\n",
       "      <td>NaN</td>\n",
       "    </tr>\n",
       "    <tr>\n",
       "      <th>2010</th>\n",
       "      <td>NaN</td>\n",
       "      <td>NaN</td>\n",
       "      <td>NaN</td>\n",
       "    </tr>\n",
       "    <tr>\n",
       "      <th>2011</th>\n",
       "      <td>NaN</td>\n",
       "      <td>NaN</td>\n",
       "      <td>NaN</td>\n",
       "    </tr>\n",
       "    <tr>\n",
       "      <th>2012</th>\n",
       "      <td>NaN</td>\n",
       "      <td>NaN</td>\n",
       "      <td>NaN</td>\n",
       "    </tr>\n",
       "    <tr>\n",
       "      <th>2013</th>\n",
       "      <td>NaN</td>\n",
       "      <td>NaN</td>\n",
       "      <td>NaN</td>\n",
       "    </tr>\n",
       "    <tr>\n",
       "      <th>2014</th>\n",
       "      <td>NaN</td>\n",
       "      <td>NaN</td>\n",
       "      <td>NaN</td>\n",
       "    </tr>\n",
       "    <tr>\n",
       "      <th>2015</th>\n",
       "      <td>NaN</td>\n",
       "      <td>NaN</td>\n",
       "      <td>NaN</td>\n",
       "    </tr>\n",
       "    <tr>\n",
       "      <th>2016</th>\n",
       "      <td>NaN</td>\n",
       "      <td>NaN</td>\n",
       "      <td>NaN</td>\n",
       "    </tr>\n",
       "    <tr>\n",
       "      <th>2017</th>\n",
       "      <td>NaN</td>\n",
       "      <td>NaN</td>\n",
       "      <td>NaN</td>\n",
       "    </tr>\n",
       "    <tr>\n",
       "      <th>2018</th>\n",
       "      <td>NaN</td>\n",
       "      <td>NaN</td>\n",
       "      <td>NaN</td>\n",
       "    </tr>\n",
       "    <tr>\n",
       "      <th>2019</th>\n",
       "      <td>NaN</td>\n",
       "      <td>NaN</td>\n",
       "      <td>NaN</td>\n",
       "    </tr>\n",
       "    <tr>\n",
       "      <th>2020</th>\n",
       "      <td>NaN</td>\n",
       "      <td>NaN</td>\n",
       "      <td>NaN</td>\n",
       "    </tr>\n",
       "  </tbody>\n",
       "</table>\n",
       "</div>"
      ],
      "text/plain": [
       "        1    2    3\n",
       "2008  NaN  NaN  NaN\n",
       "2009  NaN  NaN  NaN\n",
       "2010  NaN  NaN  NaN\n",
       "2011  NaN  NaN  NaN\n",
       "2012  NaN  NaN  NaN\n",
       "2013  NaN  NaN  NaN\n",
       "2014  NaN  NaN  NaN\n",
       "2015  NaN  NaN  NaN\n",
       "2016  NaN  NaN  NaN\n",
       "2017  NaN  NaN  NaN\n",
       "2018  NaN  NaN  NaN\n",
       "2019  NaN  NaN  NaN\n",
       "2020  NaN  NaN  NaN"
      ]
     },
     "execution_count": 31,
     "metadata": {},
     "output_type": "execute_result"
    }
   ],
   "source": [
    "Index = create_index(Data_Gruop)\n",
    "Columns = [1, 2, 3]\n",
    "df = pd.DataFrame(index=Index, columns=Columns)\n"
   ]
  },
  {
   "cell_type": "code",
   "execution_count": 32,
   "metadata": {},
   "outputs": [],
   "source": [
    "df=count_IHH(Data_Gruop,df,\"IHH_resultado\")"
   ]
  },
  {
   "cell_type": "code",
   "execution_count": 33,
   "metadata": {},
   "outputs": [
    {
     "data": {
      "text/plain": [
       "<Figure size 640x480 with 0 Axes>"
      ]
     },
     "metadata": {},
     "output_type": "display_data"
    },
    {
     "data": {
      "image/png": "[encoded data removed]",
      "text/plain": [
       "<Figure size 640x480 with 1 Axes>"
      ]
     },
     "metadata": {},
     "output_type": "display_data"
    }
   ],
   "source": [
    "import matplotlib.pyplot as plt\n",
    "\n",
    "# Crear una figura para el gráfico\n",
    "plt.figure()\n",
    "\n",
    "# Graficar los resultados de IHH_resultado con un gráfico de barras\n",
    "df.plot(kind='bar', width=0.8)\n",
    "\n",
    "# Etiquetas y título del gráfico\n",
    "plt.xlabel(\"Años\")\n",
    "plt.ylabel(\"Cantidad de Sectores\")\n",
    "plt.title(\"Resultados de IHH por Índice\")\n",
    "\n",
    "\n",
    "# Mostrar el gráfico\n",
    "plt.show()\n",
    "#plt.savefig('grafico_Sectores.jpg', format='jpg')\n"
   ]
  },
  {
   "cell_type": "markdown",
   "metadata": {},
   "source": [
    "Se imprime una grafica con la media  del salario medio pagado por sectores con poder y sin poder."
   ]
  },
  {
   "cell_type": "code",
   "execution_count": 34,
   "metadata": {},
   "outputs": [],
   "source": [
    "Prom = create_index(Data_Gruop)\n",
    "X=['Salario_Medio']  # Acá se crea la columna vacia\n",
    "Promedio_years= pd.DataFrame(index=Index, columns=X)\n",
    "\n",
    "#Creamos un dataframe donde agrupa la mediana de cada CIIU para cada año"
   ]
  },
  {
   "cell_type": "code",
   "execution_count": 35,
   "metadata": {},
   "outputs": [],
   "source": [
    "# Leer el archivo de Excel\n",
    "IPC_doc = pd.read_excel(\"Data_EAM&IPC\\\\IPC.xlsx\", header=0)\n",
    "\n",
    "# Crear un DataFrame IPC a partir de los datos leídos\n",
    "IPC = pd.DataFrame({'Año': IPC_doc.iloc[:, 0], 'IPC': IPC_doc.iloc[:, 1]})\n",
    "\n",
    "Index = create_index(Data_Gruop)\n",
    "\n",
    "# Establecer el índice del DataFrame IPC usando la lista Index\n",
    "IPC.set_index('Año', inplace=True)\n",
    "\n",
    "# Reemplazar el índice existente con la lista Index\n",
    "IPC.index = Index\n"
   ]
  },
  {
   "cell_type": "code",
   "execution_count": 36,
   "metadata": {},
   "outputs": [],
   "source": [
    "T=[]\n",
    "for i in Data_Gruop:\n",
    "    X = i['MED-WAGE'].median()\n",
    "    T.append(X)"
   ]
  },
  {
   "cell_type": "code",
   "execution_count": 37,
   "metadata": {},
   "outputs": [],
   "source": [
    "Promedio_years['Salario_Medio'] = T\n",
    "Promedio_years[\"InflaciónIPC\"] = IPC[\"IPC\"]\n",
    "Promedio_years['Salario_Real'] = (Promedio_years[\"Salario_Medio\"]  / Promedio_years[\"InflaciónIPC\"]) *100\n"
   ]
  },
  {
   "cell_type": "code",
   "execution_count": 39,
   "metadata": {},
   "outputs": [
    {
     "data": {
      "image/png": "[encoded data removed]",
      "text/plain": [
       "<Figure size 640x480 with 2 Axes>"
      ]
     },
     "metadata": {},
     "output_type": "display_data"
    }
   ],
   "source": [
    "import matplotlib.pyplot as plt\n",
    "\n",
    "# Supongamos que 'df' es tu DataFrame con una columna \"Datos\" y un índice deseado en el eje X\n",
    "\n",
    "# Obtén los valores del índice y los datos de las columnas\n",
    "x_values = Promedio_years.index\n",
    "y_values_1 = Promedio_years['Salario_Real']\n",
    "y_values_2 = Promedio_years['Salario_Medio']\n",
    "\n",
    "# Crea la figura y los ejes\n",
    "fig, ax1 = plt.subplots()\n",
    "\n",
    "# Crea un segundo eje Y que comparta el mismo eje X\n",
    "ax2 = ax1.twinx()\n",
    "\n",
    "# Trazar datos en el primer eje Y\n",
    "ax1.plot(x_values, y_values_1, marker='o', linestyle='-', color='b', label='Salario Real')\n",
    "ax1.set_xlabel('Años')\n",
    "ax1.set_ylabel('Mediana del Salario REAL', color='b')\n",
    "\n",
    "# Trazar datos en el segundo eje Y\n",
    "ax2.plot(x_values, y_values_2, marker='s', linestyle='--', color='r', label='Salario Nominal')\n",
    "ax2.set_ylabel('Salario Medio', color='r')\n",
    "\n",
    "# Agregar leyendas para las líneas\n",
    "ax1.legend(loc='upper left', bbox_to_anchor=(0.05, 0.95))\n",
    "ax2.legend(loc='upper left', bbox_to_anchor=(0.05, 0.87))\n",
    "\n",
    "# Título del gráfico\n",
    "plt.title('Mediana del Salario y Salario Medio Real')\n",
    "\n",
    "# Muestra el gráfico\n",
    "plt.show()\n",
    "#plt.savefig('grafico_Salario.jpg', format='jpg')\n"
   ]
  },
  {
   "cell_type": "markdown",
   "metadata": {},
   "source": [
    "Agregar el Salario minimo y el porcentaje pagado del salario minimo por la EAM y de esa medida se puede establecer el potencial de ingresos que tiene el sector"
   ]
  },
  {
   "cell_type": "markdown",
   "metadata": {},
   "source": [
    "Construcción de los hechos estilizados para el empleo"
   ]
  },
  {
   "cell_type": "code",
   "execution_count": 40,
   "metadata": {},
   "outputs": [
    {
     "name": "stderr",
     "output_type": "stream",
     "text": [
      "c:\\Users\\User\\Documents\\TrabajoGrado\\env\\lib\\site-packages\\IPython\\core\\interactiveshell.py:3553: FutureWarning: The error_bad_lines argument has been deprecated and will be removed in a future version.\n",
      "\n",
      "\n",
      "  exec(code_obj, self.user_global_ns, self.user_ns)\n",
      "b'Skipping line 1288: expected 1 fields, saw 2\\n'\n"
     ]
    }
   ],
   "source": [
    "# Leer el archivo de Excel\n",
    "import pandas as pd     \n",
    "import numpy as np \n",
    "import glob as glob\n",
    "\n",
    "csv_files_gD = glob.glob('Data_GEIH\\\\Desocupados\\\\*.[Cc][Ss][Vv]', recursive=True)\n",
    "Dog_D =[]\n",
    "\n",
    "for filename in csv_files_gD:\n",
    "    if \"Desocupados2008.csv\" in filename:\n",
    "        data_gD = pd.read_csv(filename, sep=\",\", encoding='latin-1', error_bad_lines=False)\n",
    "    if \"Desocupados2017.csv\" in filename:\n",
    "        data_gD = pd.read_csv(filename, sep=\",\", encoding='latin-1', error_bad_lines=False)\n",
    "    elif \"Desocupados2020.CSV\" in filename:\n",
    "        data_gD = pd.read_csv(filename, sep=\",\", encoding='latin-1', error_bad_lines=False)\n",
    "\n",
    "    else:\n",
    "        data_gD = pd.read_csv(filename,sep=\";\",encoding='latin-1', error_bad_lines=False)\n",
    "        \n",
    "    Dog_D.append(data_gD)\n",
    "\n",
    "GEIH_D08,GEIH_D09,GEIH_D10,GEIH_D11,GEIH_D12,GEIH_D13,GEIH_D14, \\\n",
    "    GEIH_D15,GEIH_D16,GEIH_D17,GEIH_D18,GEIH_D19,GEIH_D20 = Dog_D\n",
    "GEIH_LIST_D=[GEIH_D08,GEIH_D09,GEIH_D10,GEIH_D11,GEIH_D12,GEIH_D13,GEIH_D14, \\\n",
    "    GEIH_D15,GEIH_D16,GEIH_D17,GEIH_D18,GEIH_D19,GEIH_D20]"
   ]
  },
  {
   "cell_type": "code",
   "execution_count": 41,
   "metadata": {},
   "outputs": [
    {
     "name": "stderr",
     "output_type": "stream",
     "text": [
      "b'Skipping line 6179: expected 177 fields, saw 178\\n'\n",
      "b'Skipping line 13149: expected 177 fields, saw 178\\n'\n",
      "c:\\Users\\User\\Documents\\TrabajoGrado\\env\\lib\\site-packages\\IPython\\core\\interactiveshell.py:3553: DtypeWarning: Columns (104,108,173) have mixed types.Specify dtype option on import or set low_memory=False.\n",
      "  exec(code_obj, self.user_global_ns, self.user_ns)\n",
      "b'Skipping line 1638: expected 183 fields, saw 184\\nSkipping line 1861: expected 183 fields, saw 184\\nSkipping line 4037: expected 183 fields, saw 185\\n'\n",
      "b'Skipping line 6711: expected 183 fields, saw 184\\n'\n",
      "b'Skipping line 10112: expected 183 fields, saw 184\\nSkipping line 10114: expected 183 fields, saw 185\\nSkipping line 10120: expected 183 fields, saw 184\\n'\n",
      "b'Skipping line 12546: expected 183 fields, saw 184\\nSkipping line 12547: expected 183 fields, saw 184\\n'\n",
      "c:\\Users\\User\\Documents\\TrabajoGrado\\env\\lib\\site-packages\\IPython\\core\\interactiveshell.py:3553: DtypeWarning: Columns (109,128,132) have mixed types.Specify dtype option on import or set low_memory=False.\n",
      "  exec(code_obj, self.user_global_ns, self.user_ns)\n",
      "c:\\Users\\User\\Documents\\TrabajoGrado\\env\\lib\\site-packages\\IPython\\core\\interactiveshell.py:3553: DtypeWarning: Columns (7,118) have mixed types.Specify dtype option on import or set low_memory=False.\n",
      "  exec(code_obj, self.user_global_ns, self.user_ns)\n"
     ]
    }
   ],
   "source": [
    "csv_files_g = glob.glob('Data_GEIH\\\\Ocupados\\\\*.[Cc][Ss][Vv]', recursive=True)\n",
    "Dog =[]\n",
    "\n",
    "for filename in csv_files_g:\n",
    "    if \"Ocupados2008.csv\" in filename:\n",
    "        data_g = pd.read_csv(filename, sep=\",\", encoding='latin-1', error_bad_lines=False)   \n",
    "    elif \"Ocupados2011.csv\" in filename:\n",
    "        data_g = pd.read_csv(filename, sep=\",\", encoding='latin-1', error_bad_lines=False)    \n",
    "    elif \"Ocupados2017.csv\" in filename:\n",
    "        data_g = pd.read_csv(filename, sep=\",\", encoding='latin-1', error_bad_lines=False)\n",
    "    elif \"Ocupados2020.CSV\" in filename:\n",
    "        data_g = pd.read_csv(filename, sep=\",\", encoding='latin-1', error_bad_lines=False)\n",
    "    else:\n",
    "        data_g = pd.read_csv(filename,sep=\";\",encoding='latin-1', error_bad_lines=False)\n",
    "        \n",
    "    Dog.append(data_g)\n",
    "\n",
    "GEIH_O08,GEIH_O09,GEIH_O10,GEIH_O11,GEIH_O12,GEIH_O13,GEIH_O14,GEIH_O15,GEIH_O16,GEIH_O17,GEIH_O18,GEIH_O19,GEIH_O20 = Dog\n",
    "GEIH_LIST_O=[GEIH_O08,GEIH_O09,GEIH_O10,GEIH_O11,GEIH_O12,GEIH_O13,GEIH_O14,\n",
    "    GEIH_O15,GEIH_O16,GEIH_O17,GEIH_O18,GEIH_O19,GEIH_O20]"
   ]
  },
  {
   "cell_type": "code",
   "execution_count": 42,
   "metadata": {},
   "outputs": [],
   "source": [
    "GEIH_LIST_D = change_label(GEIH_LIST_D)\n",
    "GEIH_LIST_O = change_label(GEIH_LIST_O)"
   ]
  },
  {
   "cell_type": "code",
   "execution_count": 43,
   "metadata": {},
   "outputs": [],
   "source": [
    "GEIH_LIST_D[12].columns.values[6]=\"RAMA4D_D\"\n",
    "GEIH_LIST_O[12].columns.values[6]=\"RAMA4D\""
   ]
  },
  {
   "cell_type": "code",
   "execution_count": 75,
   "metadata": {},
   "outputs": [],
   "source": [
    "GEIH_LIST_O=Sort(\"RAMA4D\",GEIH_LIST_O)\n",
    "GEIH_LIST_D=Sort(\"RAMA4D_D\",GEIH_LIST_D)"
   ]
  },
  {
   "cell_type": "code",
   "execution_count": 77,
   "metadata": {},
   "outputs": [],
   "source": [
    "GEIH_G08,GEIH_G09,GEIH_G10,GEIH_G11,GEIH_G12,GEIH_G13,GEIH_G14,GEIH_G15,GEIH_G16,GEIH_G17,GEIH_G18,GEIH_G19,GEIH_G20 = 0,0,0,0,0,0,0,0,0,0,0,0,0 \n",
    "GEIH_G=[GEIH_G08,GEIH_G09,GEIH_G10,GEIH_G11,GEIH_G12,GEIH_G13,GEIH_G14,\n",
    "    GEIH_G15,GEIH_G16,GEIH_G17,GEIH_G18,GEIH_G19,GEIH_G20]"
   ]
  },
  {
   "cell_type": "code",
   "execution_count": 85,
   "metadata": {},
   "outputs": [],
   "source": [
    "GEIH_GD08,GEIH_GD09,GEIH_GD10,GEIH_GD11,GEIH_GD12,GEIH_GD13,GEIH_GD14,GEIH_GD15,GEIH_GD16,GEIH_GD17,GEIH_GD18,GEIH_GD19,GEIH_GD20 = 0,0,0,0,0,0,0,0,0,0,0,0,0 \n",
    "GEIH_GD=[GEIH_GD08,GEIH_GD09,GEIH_GD10,GEIH_GD11,GEIH_GD12,GEIH_GD13,GEIH_GD14,\n",
    "    GEIH_GD15,GEIH_GD16,GEIH_GD17,GEIH_GD18,GEIH_GD19,GEIH_GD20]"
   ]
  },
  {
   "cell_type": "code",
   "execution_count": 87,
   "metadata": {},
   "outputs": [],
   "source": [
    "for i in range(len(GEIH_LIST_D)):\n",
    "    index=GEIH_LIST_D[i][\"RAMA4D_D\"].drop_duplicates().sort_values()\n",
    "    GEIH_GD[i]= pd.DataFrame(index=index,columns=[\"Number_Workers_D\",\"fact_c_D\"])"
   ]
  },
  {
   "cell_type": "code",
   "execution_count": 78,
   "metadata": {},
   "outputs": [],
   "source": [
    "for i in range(len(GEIH_LIST_O)):\n",
    "    index=GEIH_LIST_O[i][\"RAMA4D\"].drop_duplicates().sort_values()\n",
    "    GEIH_G[i]= pd.DataFrame(index=index,columns=[\"Number_Workers\",\"fact_c\"])\n"
   ]
  },
  {
   "cell_type": "code",
   "execution_count": 83,
   "metadata": {},
   "outputs": [],
   "source": [
    "for j in GEIH_LIST_O:\n",
    "    condition = j[\"P6870\"].apply(lambda x: x == 9)\n",
    "    if condition.any():\n",
    "        GEIH_G=calculate_avg_or_sum(\"RAMA4D\", \"RAMA4D\", \"Number_Workers\", GEIH_G, GEIH_LIST_O, \"count\")\n",
    "        #GEIH_G=calculate_avg_or_sum(\"RAMA4D\", \"xxx\", \"fact_c\", GEIH_G, GEIH_LIST_O, \"sum\") \n",
    "        #SOLO SERÍA CORREGIR ESTA en donde estan las 'xxx' por que hay que estandarizar el label de factor de expansion\n"
   ]
  },
  {
   "cell_type": "code",
   "execution_count": 93,
   "metadata": {},
   "outputs": [],
   "source": [
    "for j in GEIH_LIST_D:\n",
    "    condition = j[\"P7360\"].apply(lambda x: x == 9)\n",
    "    if condition.any():\n",
    "        GEIH_GD=calculate_avg_or_sum(\"RAMA4D_D\", \"RAMA4D_D\", \"Number_Workers_D\", GEIH_GD, GEIH_LIST_D, \"count\")\n",
    "        #GEIH_G=calculate_avg_or_sum(\"RAMA4D\", \"xxx\", \"fact_c\", GEIH_G, GEIH_LIST_O, \"sum\") \n",
    "        #SOLO SERÍA CORREGIR ESTA en donde estan las 'xxx' por que hay que estandarizar el label de factor de expansion"
   ]
  },
  {
   "cell_type": "code",
   "execution_count": null,
   "metadata": {},
   "outputs": [],
   "source": [
    "#FALTA HACER EL FACTOR DE EXPAMSIÓN Y UNIRLOS PARA DESPUES CALCULAR LA PEA Y SACAR LA TD POR CADA ITEM"
   ]
  }
 ],
 "metadata": {
  "kernelspec": {
   "display_name": "env",
   "language": "python",
   "name": "python3"
  },
  "language_info": {
   "codemirror_mode": {
    "name": "ipython",
    "version": 3
   },
   "file_extension": ".py",
   "mimetype": "text/x-python",
   "name": "python",
   "nbconvert_exporter": "python",
   "pygments_lexer": "ipython3",
   "version": "3.7.9"
  },
  "orig_nbformat": 4
 },
 "nbformat": 4,
 "nbformat_minor": 2
}
